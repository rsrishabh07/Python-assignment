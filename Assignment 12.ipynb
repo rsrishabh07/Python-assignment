{
 "cells": [
  {
   "cell_type": "markdown",
   "id": "1ac154cb-2761-4ac2-98d5-6e61924597e5",
   "metadata": {},
   "source": [
    "1. Write a Python program to Extract Unique values dictionary values?"
   ]
  },
  {
   "cell_type": "code",
   "execution_count": 1,
   "id": "e38fa6c7-1d75-40b4-a2db-4cabee1c7e2b",
   "metadata": {},
   "outputs": [
    {
     "name": "stdout",
     "output_type": "stream",
     "text": [
      "{'Ajay', 'Manish', 'Deepak', 'Anil'}\n"
     ]
    }
   ],
   "source": [
    "my_dic = {1:\"Ajay\",2:\"Manish\",3:\"Anil\",4:\"Deepak\",5:\"Ajay\"}\n",
    "\n",
    "unique_value= (set(my_dic.values()))\n",
    "\n",
    "print(unique_value)"
   ]
  },
  {
   "cell_type": "markdown",
   "id": "766b7fcb-5ef1-4b9b-8bd4-c9fb2c8998ff",
   "metadata": {},
   "source": [
    "2. Write a Python program to find the sum of all items in a dictionary?"
   ]
  },
  {
   "cell_type": "code",
   "execution_count": 5,
   "id": "ee421c13-2182-4cd0-acfc-af2759a01f7c",
   "metadata": {},
   "outputs": [
    {
     "name": "stdin",
     "output_type": "stream",
     "text": [
      "Enter the number of key pairs you want to store in dictionary : 2\n",
      "Enter the key : one\n",
      "Enter the value : 1\n",
      "Enter the key : two\n",
      "Enter the value : 2\n"
     ]
    },
    {
     "name": "stdout",
     "output_type": "stream",
     "text": [
      "my_dic = {'one': 1, 'two': 2}\n",
      "sum of value : 3\n"
     ]
    }
   ],
   "source": [
    "num = int(input(\"Enter the number of key pairs you want to store in dictionary :\"))\n",
    "\n",
    "dic = {}\n",
    "\n",
    "for i in range (num):\n",
    "    key = input(\"Enter the key :\")\n",
    "    value = int(input(\"Enter the value :\"))\n",
    "    dic.update({key:value})\n",
    "\n",
    "print(\"my_dic =\",dic)\n",
    "\n",
    "sum_value = sum(dic.values())\n",
    "print(\"sum of value :\",sum_value)"
   ]
  },
  {
   "cell_type": "markdown",
   "id": "4a33d6be-f00b-4e86-94ac-c2d7473b71c7",
   "metadata": {},
   "source": [
    "3. Write a Python program to Merging two Dictionaries?"
   ]
  },
  {
   "cell_type": "code",
   "execution_count": 7,
   "id": "02c25722-409b-42c1-861e-7ed34f13fa89",
   "metadata": {},
   "outputs": [
    {
     "name": "stdout",
     "output_type": "stream",
     "text": [
      "{'Praveen': 85, 'Ajay': 78, 'Mohit': 76, 'Naveen': 99, 'Mahesh': 79, 'Tushar': 88}\n"
     ]
    }
   ],
   "source": [
    "dic1 = {\"Praveen\":85,\"Ajay\":78,\"Mohit\":76}\n",
    "dic2 = {\"Naveen\":99,\"Mahesh\":79,\"Tushar\":88}\n",
    "\n",
    "dic3 = dic1.copy()\n",
    "dic3.update(dic2)\n",
    "\n",
    "print(dic3)"
   ]
  },
  {
   "cell_type": "markdown",
   "id": "6165085d-a87e-4268-b303-c430a8e4bb84",
   "metadata": {},
   "source": [
    "4. Write a Python program to convert key-values list to flat dictionary?"
   ]
  },
  {
   "cell_type": "code",
   "execution_count": 9,
   "id": "ce094bd7-8819-47ea-a368-6173bbe23e65",
   "metadata": {},
   "outputs": [
    {
     "name": "stdout",
     "output_type": "stream",
     "text": [
      "{'python': 10, 'java': 14, 'c++': 16}\n"
     ]
    }
   ],
   "source": [
    "list1 = [\"python\",\"java\",\"c++\"]\n",
    "list2 = [10,14,16]\n",
    "\n",
    "my_dic = dict(zip(list1,list2))\n",
    "\n",
    "print(my_dic)"
   ]
  },
  {
   "cell_type": "markdown",
   "id": "b4e0e7ad-155d-4b5b-a04e-3888aa3e59df",
   "metadata": {},
   "source": [
    "5. Write a Python program to insertion at the beginning in OrderedDict?"
   ]
  },
  {
   "cell_type": "code",
   "execution_count": 23,
   "id": "111482ff-f8b7-4ee7-b78b-f5c017e0d012",
   "metadata": {},
   "outputs": [
    {
     "name": "stdout",
     "output_type": "stream",
     "text": [
      "original_dic : OrderedDict([('java', '10'), ('python', '12')])\n",
      "Enter the key value pairs :\n"
     ]
    },
    {
     "name": "stdin",
     "output_type": "stream",
     "text": [
      "Enter key : c++\n",
      "Enter value : 9\n"
     ]
    },
    {
     "name": "stdout",
     "output_type": "stream",
     "text": [
      "new_dic : OrderedDict([('c++', '9'), ('java', '10'), ('python', '12')])\n"
     ]
    }
   ],
   "source": [
    "from collections import OrderedDict\n",
    "\n",
    "my_dic = OrderedDict([(\"java\",\"10\"),(\"python\",\"12\")])\n",
    "print(\"original_dic :\",str(my_dic))\n",
    "\n",
    "print(\"Enter the key value pairs :\")\n",
    "\n",
    "key = input(\"Enter key :\")\n",
    "value = input(\"Enter value :\")\n",
    "added_key_value = OrderedDict([(key,value)])\n",
    "\n",
    "ordered_dic = OrderedDict(list(added_key_value.items()) + list(my_dic.items()))\n",
    "\n",
    "print(\"new_dic :\",str(ordered_dic))"
   ]
  },
  {
   "cell_type": "markdown",
   "id": "f5a9cd47-9b23-41af-bced-440e680f5773",
   "metadata": {},
   "source": [
    "6. Write a Python program to check order of character in string using OrderedDict()?"
   ]
  },
  {
   "cell_type": "code",
   "execution_count": 29,
   "id": "6aa98492-0140-4061-9007-73f1fd6aa699",
   "metadata": {},
   "outputs": [
    {
     "name": "stdout",
     "output_type": "stream",
     "text": [
      "True\n"
     ]
    }
   ],
   "source": [
    "def check_order(string, pattern):\n",
    "    i, j = 0, 0\n",
    "    for char in string:\n",
    "        if char == pattern[j]:\n",
    "            j += 1\n",
    "        if j == len(pattern):\n",
    "            return True\n",
    "        i += 1\n",
    " \n",
    "    return False\n",
    "string = 'python user'\n",
    "pattern = 'se'\n",
    "\n",
    "print(check_order(string, pattern))"
   ]
  },
  {
   "cell_type": "markdown",
   "id": "3ee0b38e-0e84-42f7-8aa4-95e168c38409",
   "metadata": {},
   "source": [
    "7. Write a Python program to sort Python Dictionaries by Key or Value?"
   ]
  },
  {
   "cell_type": "code",
   "execution_count": 30,
   "id": "b4b09a99-8c90-4409-8751-4795c574dbce",
   "metadata": {},
   "outputs": [
    {
     "name": "stdout",
     "output_type": "stream",
     "text": [
      "{'Praveen': 85, 'Ajay': 78, 'Mohit': 76}\n",
      "[('Mohit', 76), ('Ajay', 78), ('Praveen', 85)]\n"
     ]
    }
   ],
   "source": [
    "marks = {\"Praveen\":85,\"Ajay\":78,\"Mohit\":76}\n",
    "\n",
    "print(marks)\n",
    "\n",
    "sort_value = sorted(marks.items(), key = lambda x : x[1])\n",
    "\n",
    "print(sort_value)"
   ]
  },
  {
   "cell_type": "code",
   "execution_count": null,
   "id": "4466b774-ccc2-4e69-9bf3-eacd651ece08",
   "metadata": {},
   "outputs": [],
   "source": []
  }
 ],
 "metadata": {
  "kernelspec": {
   "display_name": "Python 3 (ipykernel)",
   "language": "python",
   "name": "python3"
  },
  "language_info": {
   "codemirror_mode": {
    "name": "ipython",
    "version": 3
   },
   "file_extension": ".py",
   "mimetype": "text/x-python",
   "name": "python",
   "nbconvert_exporter": "python",
   "pygments_lexer": "ipython3",
   "version": "3.11.7"
  }
 },
 "nbformat": 4,
 "nbformat_minor": 5
}
