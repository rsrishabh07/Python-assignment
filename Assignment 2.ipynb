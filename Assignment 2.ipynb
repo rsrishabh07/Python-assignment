{
 "cells": [
  {
   "cell_type": "markdown",
   "id": "38994fcb-684b-4a75-867b-5b0f119ddb73",
   "metadata": {},
   "source": [
    "1. Write a Python program to convert kilometers to miles?"
   ]
  },
  {
   "cell_type": "code",
   "execution_count": 4,
   "id": "0c906efd-398b-4406-aa12-523c2f012b27",
   "metadata": {},
   "outputs": [
    {
     "name": "stdin",
     "output_type": "stream",
     "text": [
      "enter the km: 5\n"
     ]
    },
    {
     "name": "stdout",
     "output_type": "stream",
     "text": [
      "5.0 km is 3.106585 in miles\n"
     ]
    }
   ],
   "source": [
    "def km():\n",
    "    miles = 0.621317*kilo\n",
    "    \n",
    "    return miles\n",
    "\n",
    "kilo = (float(input(\"enter the km:\")))    \n",
    "        \n",
    "km()\n",
    "\n",
    "miles = km()\n",
    "\n",
    "print(kilo,\"km is\",miles,\"in miles\")"
   ]
  },
  {
   "cell_type": "markdown",
   "id": "c168367b-ec73-4223-80a2-cf8ccdab2de1",
   "metadata": {},
   "source": [
    "2. Write a Python program to convert Celsius to Fahrenheit?"
   ]
  },
  {
   "cell_type": "code",
   "execution_count": 6,
   "id": "e1a6d53f-ba55-4d5e-8ae1-20e9f3ae742f",
   "metadata": {},
   "outputs": [
    {
     "name": "stdin",
     "output_type": "stream",
     "text": [
      "enter the temp in celsius : 40\n"
     ]
    },
    {
     "name": "stdout",
     "output_type": "stream",
     "text": [
      "40.0 celsius is 104.0 in Fahrenheit\n"
     ]
    }
   ],
   "source": [
    "def cel():\n",
    "    fahr = cels*1.8+32\n",
    "    return fahr\n",
    "\n",
    "cels = float(input(\"enter the temp in celsius :\"))\n",
    "\n",
    "cel()\n",
    "\n",
    "Fahrenheit = cel()\n",
    "\n",
    "print (cels,\"celsius is\",Fahrenheit,\"in Fahrenheit\")"
   ]
  },
  {
   "cell_type": "markdown",
   "id": "1c4081c1-0630-48ed-b873-fb3a8e2a0e18",
   "metadata": {},
   "source": [
    "3. Write a Python program to display calendar?"
   ]
  },
  {
   "cell_type": "code",
   "execution_count": null,
   "id": "e2f8bf1b-c9d9-4b96-aaaa-8dbd22e39647",
   "metadata": {},
   "outputs": [],
   "source": [
    "import calendar\n",
    "\n",
    "my_cal = calendar.calendar(int(input(\"enter year:\")))\n",
    "\n",
    "print(my_cal)"
   ]
  },
  {
   "cell_type": "markdown",
   "id": "646c4053-6ca2-47f0-90b1-36321d3bc2a1",
   "metadata": {},
   "source": [
    "4. Write a Python program to solve quadratic equation?"
   ]
  },
  {
   "cell_type": "code",
   "execution_count": 5,
   "id": "9544e7ed-74bd-46a8-84f7-879cba8a28ed",
   "metadata": {},
   "outputs": [
    {
     "name": "stdout",
     "output_type": "stream",
     "text": [
      "The solution of Quadratic equation is (-1.5-0.8660254037844386j) and (-1.5+0.8660254037844386j)\n"
     ]
    }
   ],
   "source": [
    "import cmath\n",
    "class Quadratic_equation:\n",
    "    def __init__(self,First_number,Second_number,Third_number):\n",
    "        self.First_number=First_number\n",
    "        self.Second_number=Second_number\n",
    "        self.Third_number=Third_number\n",
    "        self.Sol1=(-self.Second_number-cmath.sqrt((self.Second_number**2) - (4*self.First_number*self.Third_number)))/(2*self.First_number)\n",
    "        self.Sol2=(-self.Second_number+cmath.sqrt((self.Second_number**2) - (4*self.First_number*self.Third_number)))/(2*self.First_number)\n",
    "    \n",
    "    def Solution(self):\n",
    "        return f\"The solution of Quadratic equation is {self.Sol1} and {self.Sol2}\"\n",
    "\n",
    "Rishabh=Quadratic_equation(2,6,6)\n",
    "print(Rishabh.Solution())\n",
    "    "
   ]
  },
  {
   "cell_type": "markdown",
   "id": "cefb4dab-6d62-4f60-8699-88efb6f6583b",
   "metadata": {},
   "source": [
    "5.Write a Python program to swap two variables without temp variable?"
   ]
  },
  {
   "cell_type": "code",
   "execution_count": null,
   "id": "7582b469-0c26-4f49-982e-01fd7a4527a6",
   "metadata": {},
   "outputs": [],
   "source": [
    "def swap(x,y):\n",
    "    x,y=y,x\n",
    "    return x,y\n",
    "x = 5\n",
    "y = 4\n",
    "    \n",
    "swap(x,y)\n",
    "\n",
    "a = swap(x,y)\n",
    "\n",
    "print(\"value swap\",a)"
   ]
  }
 ],
 "metadata": {
  "kernelspec": {
   "display_name": "Python 3 (ipykernel)",
   "language": "python",
   "name": "python3"
  },
  "language_info": {
   "codemirror_mode": {
    "name": "ipython",
    "version": 3
   },
   "file_extension": ".py",
   "mimetype": "text/x-python",
   "name": "python",
   "nbconvert_exporter": "python",
   "pygments_lexer": "ipython3",
   "version": "3.11.7"
  }
 },
 "nbformat": 4,
 "nbformat_minor": 5
}
