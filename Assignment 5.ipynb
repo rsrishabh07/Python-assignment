{
 "cells": [
  {
   "cell_type": "markdown",
   "id": "c83e76ba-e5e8-4049-acaf-2259d6b5ccc6",
   "metadata": {},
   "source": [
    "1. Write a Python Program to Find LCM?"
   ]
  },
  {
   "cell_type": "code",
   "execution_count": 6,
   "id": "b57f379c-ffb1-4840-9d69-85f99877c672",
   "metadata": {},
   "outputs": [
    {
     "name": "stdin",
     "output_type": "stream",
     "text": [
      "Enter first number : 20\n",
      "Enter second number : 28\n"
     ]
    },
    {
     "name": "stdout",
     "output_type": "stream",
     "text": [
      "The LCM of 20 and 28 is 140\n"
     ]
    }
   ],
   "source": [
    "num1 = int(input(\"Enter first number :\"))\n",
    "num2 = int(input(\"Enter second number :\"))\n",
    "\n",
    "greater = max(num1,num2)\n",
    "\n",
    "while(True):\n",
    "    if(greater%num1==0 and greater%num2==0):\n",
    "        break\n",
    "    greater = greater+1\n",
    "\n",
    "print(f\"The LCM of {num1} and {num2} is {greater}\")\n"
   ]
  },
  {
   "cell_type": "markdown",
   "id": "d8741046-8858-4c6f-84d6-0f43deb9fbda",
   "metadata": {},
   "source": [
    "2. Write a Python Program to Find HCF?"
   ]
  },
  {
   "cell_type": "code",
   "execution_count": 45,
   "id": "6c694120-98f0-466e-b70c-47500251b32c",
   "metadata": {},
   "outputs": [
    {
     "name": "stdin",
     "output_type": "stream",
     "text": [
      "Enter the first number : 12\n",
      "Enter the second number : 30\n"
     ]
    },
    {
     "data": {
      "text/plain": [
       "(6, 'is a HCF of 12 and 30')"
      ]
     },
     "execution_count": 45,
     "metadata": {},
     "output_type": "execute_result"
    }
   ],
   "source": [
    "def HCF(num1,num2):\n",
    "    if num1 > num2:\n",
    "        smaller = num2\n",
    "    else:\n",
    "        smaller = num1\n",
    "    for i in range (1,smaller+1):\n",
    "        if (num1%i == 0 and num2%i == 0):\n",
    "            hcf = i\n",
    "    return hcf, f\"is a HCF of {num1} and {num2}\"\n",
    "\n",
    "HCF(num1 = int(input(\"Enter the first number :\")),num2 = int(input(\"Enter the second number :\")))"
   ]
  },
  {
   "cell_type": "markdown",
   "id": "dfa06c60-4ee2-4622-8d0a-528ea52beab2",
   "metadata": {},
   "source": [
    "3. Write a Python Program to Convert Decimal to Binary, Octal and Hexadecimal?"
   ]
  },
  {
   "cell_type": "code",
   "execution_count": 49,
   "id": "ad9469da-a11d-4f31-8a54-f312c2e0ffd5",
   "metadata": {},
   "outputs": [
    {
     "name": "stdin",
     "output_type": "stream",
     "text": [
      "Enter the number : 5\n"
     ]
    },
    {
     "name": "stdout",
     "output_type": "stream",
     "text": [
      "The conver value of decimal number 5 is :\n",
      "0b101 in banary\n",
      "0o5 in octal\n",
      "0x5 in hexadecimal\n"
     ]
    }
   ],
   "source": [
    "Decimal = int(input(\"Enter the number :\"))\n",
    "\n",
    "print(\"The conver value of decimal number\",Decimal,\"is :\")\n",
    "print(bin(Decimal),\"in banary\")\n",
    "print(oct(Decimal),\"in octal\")\n",
    "print(hex(Decimal),\"in hexadecimal\")"
   ]
  },
  {
   "cell_type": "markdown",
   "id": "f54473f3-fbb8-4b7a-9993-6b766ca4fd77",
   "metadata": {},
   "source": [
    "4. Write a Python Program To Find ASCII value of a character?"
   ]
  },
  {
   "cell_type": "code",
   "execution_count": 8,
   "id": "e6f6f8c8-c3a8-4b76-9373-e9155b537aea",
   "metadata": {},
   "outputs": [
    {
     "name": "stdout",
     "output_type": "stream",
     "text": [
      "The ASCII value of a is 97\n"
     ]
    }
   ],
   "source": [
    "Character = \"a\"\n",
    "\n",
    "print(\"The ASCII value of\",Character,\"is\",ord(Character))"
   ]
  },
  {
   "cell_type": "markdown",
   "id": "2358cb0b-a836-4c38-b71f-d66e085df45b",
   "metadata": {},
   "source": [
    "5. Write a Python Program to Make a Simple Calculator with 4 basic mathematical operations?"
   ]
  },
  {
   "cell_type": "code",
   "execution_count": 14,
   "id": "f2f03580-d13d-4695-b5a9-99f461a3ce55",
   "metadata": {},
   "outputs": [
    {
     "name": "stdout",
     "output_type": "stream",
     "text": [
      "(Simple Calculator)\n"
     ]
    },
    {
     "name": "stdin",
     "output_type": "stream",
     "text": [
      "Enter the first number:  4\n",
      "Enter thr second number:  2\n"
     ]
    },
    {
     "name": "stdout",
     "output_type": "stream",
     "text": [
      "press 1 for addition \n",
      "press 2 for subtraction \n",
      "press 3 for multiplication \n",
      "press 4 for division\n"
     ]
    },
    {
     "name": "stdin",
     "output_type": "stream",
     "text": [
      "Enter the choice : 2\n"
     ]
    },
    {
     "name": "stdout",
     "output_type": "stream",
     "text": [
      "subtraction of two given number is 2.0\n"
     ]
    }
   ],
   "source": [
    "print (\"(Simple Calculator)\")\n",
    "\n",
    "num1 = float(input(\"Enter the first number: \"))\n",
    "num2 = float(input(\"Enter thr second number: \"))\n",
    "\n",
    "print(\"press 1 for addition \\npress 2 for subtraction \\npress 3 for multiplication \\npress 4 for division\")\n",
    "\n",
    "choice = int(input(\"Enter the choice :\"))\n",
    "\n",
    "if choice == 1:\n",
    "    print(\"addition of two given number is\",num1 + num2)\n",
    "\n",
    "elif choice == 2:\n",
    "    print(\"subtraction of two given number is\",num1 - num2)\n",
    "\n",
    "elif choice == 3:\n",
    "    print(\"multiplication of two given number is\",num1 * num2)\n",
    "\n",
    "elif choice == 4:\n",
    "    print(\"division of two given number is\",num1 / num2)\n",
    "\n",
    "else:\n",
    "    print(\"Invalid input\")\n"
   ]
  },
  {
   "cell_type": "code",
   "execution_count": null,
   "id": "de89a767-b826-48cc-a1fb-86d4b062ced1",
   "metadata": {},
   "outputs": [],
   "source": []
  }
 ],
 "metadata": {
  "kernelspec": {
   "display_name": "Python 3 (ipykernel)",
   "language": "python",
   "name": "python3"
  },
  "language_info": {
   "codemirror_mode": {
    "name": "ipython",
    "version": 3
   },
   "file_extension": ".py",
   "mimetype": "text/x-python",
   "name": "python",
   "nbconvert_exporter": "python",
   "pygments_lexer": "ipython3",
   "version": "3.11.7"
  }
 },
 "nbformat": 4,
 "nbformat_minor": 5
}
