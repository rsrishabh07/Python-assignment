{
 "cells": [
  {
   "cell_type": "code",
   "execution_count": null,
   "id": "051372e8-a49a-4550-b181-11503ab5fa97",
   "metadata": {},
   "outputs": [],
   "source": [
    "1. Write a Python Program to find sum of array?"
   ]
  },
  {
   "cell_type": "code",
   "execution_count": 4,
   "id": "05fdf234-64af-4d8d-96a2-bb3593fa00fe",
   "metadata": {},
   "outputs": [
    {
     "name": "stdout",
     "output_type": "stream",
     "text": [
      "56\n"
     ]
    }
   ],
   "source": [
    "array = [5,6,7,8,9,10,11]\n",
    "\n",
    "total = sum(array)\n",
    "\n",
    "print(total) "
   ]
  },
  {
   "cell_type": "markdown",
   "id": "5fc020c6-5dfb-4f58-a9ef-3fc5cfee3b1f",
   "metadata": {},
   "source": [
    "2. Write a Python Program to find largest element in an array?"
   ]
  },
  {
   "cell_type": "code",
   "execution_count": 7,
   "id": "c13de3e6-f301-4559-984b-341e6900e626",
   "metadata": {},
   "outputs": [
    {
     "name": "stdout",
     "output_type": "stream",
     "text": [
      "Largest element in array is 89\n"
     ]
    }
   ],
   "source": [
    "array = [10, 89, 9, 56, 4, 80, 8]\n",
    "\n",
    "large_num = (max(array))\n",
    "\n",
    "print(\"Largest element in array is\",large_num)"
   ]
  },
  {
   "cell_type": "code",
   "execution_count": null,
   "id": "17475553-ccd0-4ea2-bcc3-90ca1dbc2a05",
   "metadata": {},
   "outputs": [],
   "source": [
    "3. Write a Python Program for array rotation?"
   ]
  },
  {
   "cell_type": "code",
   "execution_count": 11,
   "id": "043200f2-7148-4d91-b68c-7b997e0f5e66",
   "metadata": {},
   "outputs": [
    {
     "name": "stdout",
     "output_type": "stream",
     "text": [
      "\n",
      "4\n",
      "5\n",
      "1\n",
      "2\n",
      "3\n"
     ]
    }
   ],
   "source": [
    "arr = [1, 2, 3, 4, 5];     \n",
    "n = 3;       \n",
    "for i in range(0, n):    \n",
    "    first = arr[0];    \n",
    "        \n",
    "    for j in range(0, len(arr)-1):\n",
    "        arr[j] = arr[j+1];    \n",
    "             \n",
    "    arr[len(arr)-1] = first;    \n",
    "     \n",
    "print();    \n",
    "        \n",
    "for i in range(0, len(arr)):    \n",
    "    print(arr[i]),    "
   ]
  },
  {
   "cell_type": "markdown",
   "id": "febf0edf-10c8-4700-a4dc-3dd9d73d76df",
   "metadata": {},
   "source": [
    "4. Write a Python Program to Split the array and add the first part to the end?"
   ]
  },
  {
   "cell_type": "code",
   "execution_count": 22,
   "id": "f349e8bf-40f9-4bff-833b-750010a5ef16",
   "metadata": {},
   "outputs": [
    {
     "name": "stdout",
     "output_type": "stream",
     "text": [
      "5 6 52 12 10 10 "
     ]
    }
   ],
   "source": [
    "def splitArr(arr, n, k):\n",
    "    for i in range(0, k):\n",
    "        x = arr[0]\n",
    "        for j in range(0, n-1):\n",
    "            arr[j] = arr[j + 1]\n",
    "            arr[n-1] = x\n",
    " \n",
    "arr = [12, 10, 5, 6, 52, 36]\n",
    "n = len(arr)\n",
    "position = 2\n",
    " \n",
    "splitArr(arr, n, position)\n",
    " \n",
    "for i in range(0, n):\n",
    "    print(arr[i], end=' ')"
   ]
  },
  {
   "cell_type": "markdown",
   "id": "f673b644-a31e-4d5e-baf4-e27cc0ae3f01",
   "metadata": {},
   "source": [
    "5. Write a Python Program to check if given array is Monotonic?"
   ]
  },
  {
   "cell_type": "code",
   "execution_count": 31,
   "id": "d0e03501-c0cf-42f7-b1a9-29a29e943f07",
   "metadata": {},
   "outputs": [
    {
     "name": "stdout",
     "output_type": "stream",
     "text": [
      "it is a monotonic array [5, 6, 7, 8, 9, 10]\n"
     ]
    }
   ],
   "source": [
    "def monotonic(arr):\n",
    "    a,b=[],[]\n",
    "    a.extend(arr)\n",
    "    b.extend(arr)\n",
    "    a.sort()\n",
    "    b.sort(reverse=True)\n",
    "    if (arr==a or arr==b):\n",
    "        return True\n",
    "    return False\n",
    "\n",
    "arr=[5,6,7,8,9,10]\n",
    "if monotonic(arr):\n",
    "    print(\"it is a monotonic array\",arr)\n",
    "else:\n",
    "    print(\"it is not a monotonic array\",arr)\n",
    "    "
   ]
  },
  {
   "cell_type": "code",
   "execution_count": null,
   "id": "9c589b7e-26f6-4b8d-81bc-daa77d59235a",
   "metadata": {},
   "outputs": [],
   "source": []
  }
 ],
 "metadata": {
  "kernelspec": {
   "display_name": "Python 3 (ipykernel)",
   "language": "python",
   "name": "python3"
  },
  "language_info": {
   "codemirror_mode": {
    "name": "ipython",
    "version": 3
   },
   "file_extension": ".py",
   "mimetype": "text/x-python",
   "name": "python",
   "nbconvert_exporter": "python",
   "pygments_lexer": "ipython3",
   "version": "3.11.7"
  }
 },
 "nbformat": 4,
 "nbformat_minor": 5
}
