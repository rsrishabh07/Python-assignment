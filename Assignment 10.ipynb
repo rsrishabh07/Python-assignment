{
 "cells": [
  {
   "cell_type": "markdown",
   "id": "d2ae77f3-387c-4a6b-b268-768b684303c6",
   "metadata": {},
   "source": [
    "1. Write a Python program to find sum of elements in list?"
   ]
  },
  {
   "cell_type": "code",
   "execution_count": 21,
   "id": "b63fc675-76fc-41ba-b3ff-255d1647258d",
   "metadata": {},
   "outputs": [
    {
     "data": {
      "text/plain": [
       "34.0"
      ]
     },
     "execution_count": 21,
     "metadata": {},
     "output_type": "execute_result"
    }
   ],
   "source": [
    "import math\n",
    "\n",
    "def sum_list(list):\n",
    "   return math.fsum(list)\n",
    "\n",
    "list = [2,5,8,9,10]\n",
    "\n",
    "sum_list(list)"
   ]
  },
  {
   "cell_type": "markdown",
   "id": "e1ab1bb0-adbc-4fa7-86ef-11d994bd25de",
   "metadata": {},
   "source": [
    "2. Write a Python program to Multiply all numbers in the list?"
   ]
  },
  {
   "cell_type": "code",
   "execution_count": 22,
   "id": "52649d6b-e5eb-4b6a-80e3-97b4087f64bd",
   "metadata": {},
   "outputs": [
    {
     "data": {
      "text/plain": [
       "7200"
      ]
     },
     "execution_count": 22,
     "metadata": {},
     "output_type": "execute_result"
    }
   ],
   "source": [
    "import math\n",
    "\n",
    "def mult_list(list):\n",
    "   return math.prod(list)\n",
    "\n",
    "list = [2,5,8,9,10]\n",
    "\n",
    "mult_list(list)"
   ]
  },
  {
   "cell_type": "markdown",
   "id": "e09bde98-2f05-4a7b-a8b3-3428cefb45fc",
   "metadata": {},
   "source": [
    "3. Write a Python program to find smallest number in a list?"
   ]
  },
  {
   "cell_type": "code",
   "execution_count": 25,
   "id": "4f212c04-eae6-4f1a-99f8-c36d022d7c3c",
   "metadata": {},
   "outputs": [
    {
     "name": "stdout",
     "output_type": "stream",
     "text": [
      "Smallest number is: 5\n"
     ]
    }
   ],
   "source": [
    "list = [5,9,11,63,96]\n",
    " \n",
    "list.sort()\n",
    " \n",
    "print(\"Smallest number is:\", list[0])"
   ]
  },
  {
   "cell_type": "markdown",
   "id": "e99e61c7-db64-4d45-be94-02ae5ef141c9",
   "metadata": {},
   "source": [
    "4. Write a Python program to find largest number in a list?"
   ]
  },
  {
   "cell_type": "code",
   "execution_count": 29,
   "id": "cb493164-fe80-4330-817a-7dcf9c18e7f5",
   "metadata": {},
   "outputs": [
    {
     "name": "stdout",
     "output_type": "stream",
     "text": [
      "largest number is: 22\n"
     ]
    }
   ],
   "source": [
    "list = [9,11,8,22,2]\n",
    " \n",
    "list.sort()\n",
    " \n",
    "print(\"largest number is:\", list[4])"
   ]
  },
  {
   "cell_type": "markdown",
   "id": "e1f9e88d-dfd9-4d77-a092-193a089ebb14",
   "metadata": {},
   "source": [
    "5. Write a Python program to find second largest number in a list?"
   ]
  },
  {
   "cell_type": "code",
   "execution_count": 30,
   "id": "b9b5607d-501b-49aa-991e-c716dfec3868",
   "metadata": {},
   "outputs": [
    {
     "name": "stdout",
     "output_type": "stream",
     "text": [
      "second largest number is: 65\n"
     ]
    }
   ],
   "source": [
    "list = [7,22,87,50,65]\n",
    " \n",
    "list.sort()\n",
    " \n",
    "print(\"second largest number is:\", list[-2])"
   ]
  },
  {
   "cell_type": "markdown",
   "id": "c3748480-11df-44a9-865a-d6916234d541",
   "metadata": {},
   "source": [
    "6. Write a Python program to find N largest elements from a list?"
   ]
  },
  {
   "cell_type": "code",
   "execution_count": 39,
   "id": "ee4a5b5a-a294-4875-8106-198537cd392a",
   "metadata": {},
   "outputs": [
    {
     "name": "stdin",
     "output_type": "stream",
     "text": [
      "enter the number : 2\n"
     ]
    },
    {
     "name": "stdout",
     "output_type": "stream",
     "text": [
      "2 largest number is: [99, 103]\n"
     ]
    }
   ],
   "source": [
    "list = [56,89,44,39,103,99,55,63]\n",
    "\n",
    "n = int(input(\"enter the number :\"))\n",
    "\n",
    "list.sort()\n",
    "\n",
    "print(n,\"largest number is:\", list[-n:])"
   ]
  },
  {
   "cell_type": "markdown",
   "id": "fe9a4b71-3269-45ca-afab-653df2614d99",
   "metadata": {},
   "source": [
    "7. Write a Python program to print even numbers in a list?"
   ]
  },
  {
   "cell_type": "code",
   "execution_count": 64,
   "id": "32604fa9-edd8-4575-933b-b8072dee8895",
   "metadata": {},
   "outputs": [
    {
     "name": "stdout",
     "output_type": "stream",
     "text": [
      "Even numbers in list :\n",
      "44 56 64 100 "
     ]
    }
   ],
   "source": [
    "list = [56,89,44,39,103,100,55,64]\n",
    "\n",
    "list.sort()\n",
    "\n",
    "print(\"Even numbers in list :\")  \n",
    "\n",
    "for i in list:\n",
    "    if i %2 == 0:\n",
    "        print(i,end= \" \")  "
   ]
  },
  {
   "cell_type": "markdown",
   "id": "bcf5ea0c-208f-4ff2-be81-eef33bda9aac",
   "metadata": {},
   "source": [
    "8. Write a Python program to print odd numbers in a List?"
   ]
  },
  {
   "cell_type": "code",
   "execution_count": 66,
   "id": "7ec7f1ae-4e30-4a3b-9a56-c4d8f01c262e",
   "metadata": {},
   "outputs": [
    {
     "name": "stdout",
     "output_type": "stream",
     "text": [
      "Odd numbers in list :\n",
      "39 55 89 103 "
     ]
    }
   ],
   "source": [
    "list = [56,89,44,39,103,100,55,64]\n",
    "\n",
    "list.sort()\n",
    "\n",
    "print(\"Odd numbers in list :\")  \n",
    "\n",
    "for i in list:\n",
    "    if i %2 != 0:\n",
    "        print(i,end= \" \")  "
   ]
  },
  {
   "cell_type": "markdown",
   "id": "8f37ec00-5644-4c11-97bf-1063b1367431",
   "metadata": {},
   "source": [
    "9. Write a Python program to Remove empty List from List?"
   ]
  },
  {
   "cell_type": "code",
   "execution_count": 2,
   "id": "a9f00f2e-a63d-4099-8ed7-cced02ade581",
   "metadata": {},
   "outputs": [
    {
     "name": "stdout",
     "output_type": "stream",
     "text": [
      "[4, 9, 19, 20, 55]\n"
     ]
    }
   ],
   "source": [
    "my_list1 = [4,9,19,[],20,[],55,[]]\n",
    "\n",
    "\n",
    "my_list2 = list(filter(None,my_list1))\n",
    "\n",
    "print(my_list2)"
   ]
  },
  {
   "cell_type": "markdown",
   "id": "fcc232ab-3e07-4c99-be50-385be69b42c8",
   "metadata": {},
   "source": [
    "10. Write a Python program to Cloning or Copying a list?"
   ]
  },
  {
   "cell_type": "code",
   "execution_count": 3,
   "id": "dd3837eb-98fb-4ac2-a706-d270cbf00ba2",
   "metadata": {},
   "outputs": [
    {
     "name": "stdout",
     "output_type": "stream",
     "text": [
      "my_list1 : [10, 32, 14, 36, 58, 26]\n",
      "my_list2 : [10, 32, 14, 36, 58, 26]\n"
     ]
    }
   ],
   "source": [
    "list1 = [10,32,14,36,58,26]\n",
    "\n",
    "list2 = list1.copy()\n",
    "\n",
    "print(\"my_list1 :\",list1)\n",
    "print(\"my_list2 :\",list2)"
   ]
  },
  {
   "cell_type": "markdown",
   "id": "4b9e7913-e700-4149-8266-65a7c9122206",
   "metadata": {},
   "source": [
    "11. Write a Python program to Count occurrences of an element in a list?"
   ]
  },
  {
   "cell_type": "code",
   "execution_count": 6,
   "id": "4d60b8fa-7b3e-48d9-9f14-e97447fd3067",
   "metadata": {},
   "outputs": [
    {
     "name": "stdout",
     "output_type": "stream",
     "text": [
      "Given value is occurrences 2 times in list\n"
     ]
    }
   ],
   "source": [
    "my_list = [5,9,4,7,5,5,6,7,9,4]\n",
    "\n",
    "count_occur = my_list.count(9)\n",
    "\n",
    "print(\"Given value is occurrences\",count_occur,\"times in list\")"
   ]
  },
  {
   "cell_type": "code",
   "execution_count": null,
   "id": "194d4693-d877-4d7c-ba99-d8d92f0021a7",
   "metadata": {},
   "outputs": [],
   "source": []
  }
 ],
 "metadata": {
  "kernelspec": {
   "display_name": "Python 3 (ipykernel)",
   "language": "python",
   "name": "python3"
  },
  "language_info": {
   "codemirror_mode": {
    "name": "ipython",
    "version": 3
   },
   "file_extension": ".py",
   "mimetype": "text/x-python",
   "name": "python",
   "nbconvert_exporter": "python",
   "pygments_lexer": "ipython3",
   "version": "3.11.7"
  }
 },
 "nbformat": 4,
 "nbformat_minor": 5
}
