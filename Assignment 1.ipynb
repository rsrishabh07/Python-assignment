{
 "cells": [
  {
   "cell_type": "markdown",
   "id": "b25d18b6-d8c6-4c7f-b5d3-ab262028dc71",
   "metadata": {},
   "source": [
    "1.\tWrite a Python program to print \"Hello Python\"?"
   ]
  },
  {
   "cell_type": "code",
   "execution_count": 6,
   "id": "68279989-7871-476e-9bb1-1f66020840cc",
   "metadata": {},
   "outputs": [
    {
     "data": {
      "text/plain": [
       "'Hi Python'"
      ]
     },
     "execution_count": 6,
     "metadata": {},
     "output_type": "execute_result"
    }
   ],
   "source": [
    "def greet():\n",
    "    return \"Hi Python\"\n",
    "    \n",
    "greet()    \n",
    "    "
   ]
  },
  {
   "cell_type": "markdown",
   "id": "8ab7448c-206c-453d-8f16-3fad32e6f2a3",
   "metadata": {},
   "source": [
    "2.\tWrite a Python program to do arithmetical operations addition and division.?"
   ]
  },
  {
   "cell_type": "code",
   "execution_count": 9,
   "id": "3b0d6b56-fe13-4d90-9fff-642bd174200e",
   "metadata": {},
   "outputs": [
    {
     "data": {
      "text/plain": [
       "20"
      ]
     },
     "execution_count": 9,
     "metadata": {},
     "output_type": "execute_result"
    }
   ],
   "source": [
    "def add(value1,value2):\n",
    "    return value1+value2\n",
    "\n",
    "add(10,10)\n",
    "        "
   ]
  },
  {
   "cell_type": "code",
   "execution_count": 10,
   "id": "66a4cef9-12fa-41f5-821a-0635288436df",
   "metadata": {},
   "outputs": [
    {
     "data": {
      "text/plain": [
       "4.5"
      ]
     },
     "execution_count": 10,
     "metadata": {},
     "output_type": "execute_result"
    }
   ],
   "source": [
    "def div(value1,value2):\n",
    "    return value1/value2\n",
    "\n",
    "div(9,2)"
   ]
  },
  {
   "cell_type": "markdown",
   "id": "cfa44c3e-1fe1-4fff-af6b-df8236fb9505",
   "metadata": {},
   "source": [
    "3.\tWrite a Python program to find the area of a triangle?"
   ]
  },
  {
   "cell_type": "code",
   "execution_count": 11,
   "id": "43e61747-2966-4e79-9767-be719948b243",
   "metadata": {},
   "outputs": [
    {
     "name": "stdin",
     "output_type": "stream",
     "text": [
      "base of triangle : 52\n",
      "height of triangle : 52\n"
     ]
    },
    {
     "name": "stdout",
     "output_type": "stream",
     "text": [
      "area of triangle 1352.0\n"
     ]
    }
   ],
   "source": [
    "def area_of_triangle(b,h):\n",
    "    area=0.5*b*h\n",
    "    return area\n",
    "\n",
    "base = float(input(f\"base of triangle :\"))\n",
    "height = float(input(f\"height of triangle :\"))\n",
    "\n",
    "area_of_triangle(base,height)\n",
    "\n",
    "a = area_of_triangle(base,height)\n",
    "\n",
    "print (\"area of triangle :\",a)"
   ]
  },
  {
   "cell_type": "markdown",
   "id": "a5b76149-f969-41dd-9a5f-42a43d80dcbe",
   "metadata": {},
   "source": [
    "4.\tWrite a Python program to swap two variables?"
   ]
  },
  {
   "cell_type": "code",
   "execution_count": 12,
   "id": "22f7b237-b32b-4996-acec-9b41f48f74b4",
   "metadata": {},
   "outputs": [
    {
     "name": "stdout",
     "output_type": "stream",
     "text": [
      "value swap (4, 5)\n"
     ]
    }
   ],
   "source": [
    "def swap(x,y):\n",
    "    x,y=y,x\n",
    "    return x,y\n",
    "x = 5\n",
    "y = 4\n",
    "    \n",
    "swap(x,y)\n",
    "\n",
    "a = swap(x,y)\n",
    "\n",
    "print(\"value swap\",a)"
   ]
  },
  {
   "cell_type": "markdown",
   "id": "ce23edc6-b36c-478b-bf59-2736eda6c35f",
   "metadata": {},
   "source": [
    "5.\tWrite a Python program to generate a random number?"
   ]
  },
  {
   "cell_type": "code",
   "execution_count": 8,
   "id": "3dc04f23-882c-4643-968e-79afc2b5dd00",
   "metadata": {},
   "outputs": [
    {
     "data": {
      "text/plain": [
       "5"
      ]
     },
     "execution_count": 8,
     "metadata": {},
     "output_type": "execute_result"
    }
   ],
   "source": [
    "import random\n",
    "\n",
    "def rannum():\n",
    "    return num\n",
    "num = random.randint(0,10)\n",
    "\n",
    "rannum()\n"
   ]
  }
 ],
 "metadata": {
  "kernelspec": {
   "display_name": "Python 3 (ipykernel)",
   "language": "python",
   "name": "python3"
  },
  "language_info": {
   "codemirror_mode": {
    "name": "ipython",
    "version": 3
   },
   "file_extension": ".py",
   "mimetype": "text/x-python",
   "name": "python",
   "nbconvert_exporter": "python",
   "pygments_lexer": "ipython3",
   "version": "3.11.7"
  }
 },
 "nbformat": 4,
 "nbformat_minor": 5
}
