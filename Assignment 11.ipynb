{
 "cells": [
  {
   "cell_type": "markdown",
   "id": "681f1878-e386-4a5e-b7f3-d55658deb021",
   "metadata": {},
   "source": [
    "1. Write a Python program to find words which are greater than given length k?"
   ]
  },
  {
   "cell_type": "code",
   "execution_count": 1,
   "id": "310bb8f4-04fe-4814-b4d5-e24ea4960cc5",
   "metadata": {},
   "outputs": [
    {
     "name": "stdout",
     "output_type": "stream",
     "text": [
      "['rishabh', 'learning', 'python']\n"
     ]
    }
   ],
   "source": [
    "string = \"hi i am rishabh and i am learning python\"\n",
    "\n",
    "split = string.split()\n",
    "\n",
    "k = 3\n",
    "\n",
    "temp_list = []\n",
    "for i in split:\n",
    "    if len(i) > k:\n",
    "        temp_list.append(i)\n",
    "print(temp_list)"
   ]
  },
  {
   "cell_type": "markdown",
   "id": "d8453da5-ab95-4131-a502-c47b2ea911c7",
   "metadata": {},
   "source": [
    "2. Write a Python program for removing i-th character from a string?"
   ]
  },
  {
   "cell_type": "code",
   "execution_count": 18,
   "id": "fa05a452-381c-4621-a025-af187038269c",
   "metadata": {},
   "outputs": [
    {
     "name": "stdout",
     "output_type": "stream",
     "text": [
      "The string after removal of i'th character : pyhon\n"
     ]
    }
   ],
   "source": [
    "str = \"python\"\n",
    " \n",
    "new_str = \"\"\n",
    " \n",
    "for i in range(len(test_str)):\n",
    "    if i != 2:\n",
    "        new_str = new_str + str[i]\n",
    " \n",
    "print (\"The string after remove i'th character : \" + new_str)"
   ]
  },
  {
   "cell_type": "markdown",
   "id": "9af71a52-f4ed-43d8-a12e-4a74c8c5ec01",
   "metadata": {},
   "source": [
    "3. Write a Python program to split and join a string?"
   ]
  },
  {
   "cell_type": "code",
   "execution_count": 19,
   "id": "afc3b3a0-6ce2-43be-a589-bb753212ce2f",
   "metadata": {},
   "outputs": [
    {
     "name": "stdout",
     "output_type": "stream",
     "text": [
      "['hi', 'i', 'am', 'rishabh']\n"
     ]
    }
   ],
   "source": [
    "#split\n",
    "\n",
    "string = \"hi i am rishabh\"\n",
    "\n",
    "split = string.split()\n",
    "\n",
    "print(split)"
   ]
  },
  {
   "cell_type": "code",
   "execution_count": 20,
   "id": "f202169f-d581-410f-aab0-cc7dff4a8d24",
   "metadata": {},
   "outputs": [
    {
     "name": "stdout",
     "output_type": "stream",
     "text": [
      "hi i am rishabh\n"
     ]
    }
   ],
   "source": [
    "#join\n",
    "\n",
    "join = \" \".join(split)\n",
    "\n",
    "print(join)"
   ]
  },
  {
   "cell_type": "markdown",
   "id": "ce78e79d-723f-4d1e-9db0-759c0e55d377",
   "metadata": {},
   "source": [
    "4. Write a Python to check if a given string is binary string or not?"
   ]
  },
  {
   "cell_type": "code",
   "execution_count": 23,
   "id": "4d443348-8b37-4218-b048-3c2165bf45d7",
   "metadata": {},
   "outputs": [
    {
     "name": "stdin",
     "output_type": "stream",
     "text": [
      "Enter the number : 1100\n"
     ]
    },
    {
     "name": "stdout",
     "output_type": "stream",
     "text": [
      "it is a binary number\n"
     ]
    }
   ],
   "source": [
    "string = input(\"Enter the number :\")\n",
    "\n",
    "a = {\"0\",\"1\"}\n",
    "b = set(string)\n",
    "\n",
    "if a == b or  b == {\"0\"} or b == {\"1\"}:\n",
    "    print(\"it is a binary number\")\n",
    "else:\n",
    "    print(\"it is not a binary number\")"
   ]
  },
  {
   "cell_type": "markdown",
   "id": "fe5d998a-e445-41f9-8503-7b0e66ea0c33",
   "metadata": {},
   "source": [
    "5. Write a Python program to find uncommon words from two Strings?"
   ]
  },
  {
   "cell_type": "code",
   "execution_count": 27,
   "id": "7d932bcd-b668-43da-9677-5051f061ac05",
   "metadata": {},
   "outputs": [
    {
     "name": "stdout",
     "output_type": "stream",
     "text": [
      "['i', 'am', 'are', 'you'] uncommon words in str1 and str2\n"
     ]
    }
   ],
   "source": [
    "str1 = \"hi i am using python \"\n",
    "str2 = \"hi are you using python\"\n",
    "\n",
    "a = str1.split()\n",
    "b = str2.split()\n",
    "\n",
    "temp = []\n",
    "\n",
    "for i in a:\n",
    "    if i in b:\n",
    "        pass\n",
    "    else:\n",
    "        temp.append(i)\n",
    "for j in b:\n",
    "    if j in a:\n",
    "        pass\n",
    "    else:\n",
    "        temp.append(j)\n",
    "\n",
    "print(temp,\"uncommon words in str1 and str2\")"
   ]
  },
  {
   "cell_type": "markdown",
   "id": "367ccac8-330a-4d29-bed8-06de71c34f57",
   "metadata": {},
   "source": [
    "6. Write a Python to find all duplicate characters in string?"
   ]
  },
  {
   "cell_type": "code",
   "execution_count": 44,
   "id": "df7f0520-1154-4987-ad4f-f370e7d76bca",
   "metadata": {},
   "outputs": [
    {
     "name": "stdout",
     "output_type": "stream",
     "text": [
      "['l']\n"
     ]
    }
   ],
   "source": [
    "string = \"hello\"\n",
    "dupl_char = []\n",
    "\n",
    "for i in string:\n",
    "      if string.count(i) > 1:\n",
    "         if i not in dupl_char:\n",
    "            dupl_char.append(i)\n",
    "\n",
    "print(dupl_char)"
   ]
  },
  {
   "cell_type": "markdown",
   "id": "20886e94-3f02-44b3-9822-5971965e60b9",
   "metadata": {},
   "source": [
    "7. Write a Python Program to check if a string contains any special character?"
   ]
  },
  {
   "cell_type": "code",
   "execution_count": 57,
   "id": "bdbcbbb7-e780-4f52-9695-13c904c989a2",
   "metadata": {},
   "outputs": [],
   "source": [
    "import re\n",
    "\n",
    "str = \"rishabh@gmail.com\"\n",
    "\n",
    "temp = re.compile('[!@#$%^&*()_=/\\?><}{]')\n",
    "\n",
    "if(temp.search(str) == False):\n",
    "    print(\"not available any special character in string\")\n",
    "else:\n",
    "    (\"string contain special character\")"
   ]
  },
  {
   "cell_type": "code",
   "execution_count": null,
   "id": "7cea4bc5-2c59-4bbb-8937-4afe3712ad7b",
   "metadata": {},
   "outputs": [],
   "source": []
  }
 ],
 "metadata": {
  "kernelspec": {
   "display_name": "Python 3 (ipykernel)",
   "language": "python",
   "name": "python3"
  },
  "language_info": {
   "codemirror_mode": {
    "name": "ipython",
    "version": 3
   },
   "file_extension": ".py",
   "mimetype": "text/x-python",
   "name": "python",
   "nbconvert_exporter": "python",
   "pygments_lexer": "ipython3",
   "version": "3.11.7"
  }
 },
 "nbformat": 4,
 "nbformat_minor": 5
}
