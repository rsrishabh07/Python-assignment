{
 "cells": [
  {
   "cell_type": "markdown",
   "id": "0e189b0b-998f-4bc8-85cf-0d7e8db53387",
   "metadata": {},
   "source": [
    "Question1\n",
    "Create a function that takes a string and returns a string in which each character is repeated\n",
    "once."
   ]
  },
  {
   "cell_type": "code",
   "execution_count": 2,
   "id": "029c3c0a-30ab-4bac-9704-80b7761e4e82",
   "metadata": {},
   "outputs": [
    {
     "name": "stdin",
     "output_type": "stream",
     "text": [
      "Enter the string:  hello world\n"
     ]
    },
    {
     "name": "stdout",
     "output_type": "stream",
     "text": [
      "hheelllloo  wwoorrlldd\n"
     ]
    }
   ],
   "source": [
    "def repeat_char(string):\n",
    "    return ''.join([i+i for i in string])\n",
    "\n",
    "string = input(\"Enter the string: \")\n",
    "\n",
    "print(repeat_char(string))"
   ]
  },
  {
   "cell_type": "markdown",
   "id": "e87eb927-901f-466a-9c10-189cb0b7a6d9",
   "metadata": {},
   "source": [
    "Question2\n",
    "Create a function that reverses a boolean value and returns the string \"boolean expected\"\n",
    "if another variable type is given."
   ]
  },
  {
   "cell_type": "code",
   "execution_count": 1,
   "id": "ed1902b5-755b-482b-a136-ebcf4709137d",
   "metadata": {},
   "outputs": [
    {
     "name": "stdout",
     "output_type": "stream",
     "text": [
      "False\n",
      "True\n",
      "boolean expected\n",
      "boolean expected\n"
     ]
    }
   ],
   "source": [
    "def reverse(arg=None):\n",
    "    return not arg if type(arg) == bool else \"boolean expected\"\n",
    "\n",
    "print(reverse(True)) \n",
    "print(reverse(False)) \n",
    "print(reverse(0))\n",
    "print(reverse(None))"
   ]
  },
  {
   "cell_type": "markdown",
   "id": "362de958-2cad-43f3-9869-f4ef33267403",
   "metadata": {},
   "source": [
    "Question3\n",
    "Create a function that returns the thickness (in meters) of a piece of paper after folding it n\n",
    "number of times. The paper starts off with a thickness of 0.5mm."
   ]
  },
  {
   "cell_type": "code",
   "execution_count": 5,
   "id": "e3de75b6-279a-420b-953e-7fccb4722dd1",
   "metadata": {},
   "outputs": [
    {
     "name": "stdout",
     "output_type": "stream",
     "text": [
      "0.001mt\n",
      "0.008mt\n",
      "1048.576mt\n"
     ]
    }
   ],
   "source": [
    "def layer(num):\n",
    "    thickness = 0.5\n",
    "    for _ in range(num):\n",
    "        thickness *= 2\n",
    "    \n",
    "    return str(thickness / 1000)+\"mt\"\n",
    "\n",
    "print(layer(1))\n",
    "print(layer(4))\n",
    "print(layer(21))"
   ]
  },
  {
   "cell_type": "markdown",
   "id": "763f61f1-5a06-40d6-8cc8-85b28c7387f9",
   "metadata": {},
   "source": [
    "Question4\n",
    "Create a function that takes a single string as argument and returns an ordered list containing\n",
    "the indices of all capital letters in the string."
   ]
  },
  {
   "cell_type": "code",
   "execution_count": 11,
   "id": "b0114b0d-b12d-4a9b-88b6-8d947947c660",
   "metadata": {},
   "outputs": [
    {
     "name": "stdout",
     "output_type": "stream",
     "text": [
      "list of all capital letters in the string's':\n",
      "[0, 3]\n",
      "[1, 3, 5]\n",
      "[1, 3, 4, 6]\n",
      "[]\n",
      "[0, 1, 2, 3, 4, 5]\n",
      "[1]\n"
     ]
    }
   ],
   "source": [
    "def index_of_caps(word):\n",
    "    list = []\n",
    "    for i in range(len(word)):\n",
    "        if word[i].isupper():\n",
    "             list.append(i)\n",
    "    return list\n",
    "print(\"list of all capital letters in the string's':\")\n",
    "print(index_of_caps(\"BhaNu\"))\n",
    "print(index_of_caps(\"eDaBiT\"))\n",
    "print(index_of_caps(\"eQuINoX\")) \n",
    "print(index_of_caps(\"determine\"))\n",
    "print(index_of_caps(\"STRIKE\"))\n",
    "print(index_of_caps(\"sUn\"))"
   ]
  },
  {
   "cell_type": "markdown",
   "id": "6e108626-5292-4bff-a69c-d9c9b45fd35d",
   "metadata": {},
   "source": [
    "Question5\n",
    "Using list comprehensions, create a function that finds all even numbers from 1 to the given\n",
    "number."
   ]
  },
  {
   "cell_type": "code",
   "execution_count": 17,
   "id": "54762b62-8b77-457f-98cb-ff83db69d984",
   "metadata": {},
   "outputs": [
    {
     "name": "stdin",
     "output_type": "stream",
     "text": [
      "Enter the number : 8\n"
     ]
    },
    {
     "name": "stdout",
     "output_type": "stream",
     "text": [
      "list of even number : [2, 4, 6, 8]\n"
     ]
    }
   ],
   "source": [
    "def find_even_nums(num):\n",
    "    even =[i for i in range(2,num+1) if i % 2 == 0]\n",
    "    return even\n",
    "\n",
    "num = int(input(\"Enter the number :\"))\n",
    "print(\"list of even number :\",find_even_nums(num))"
   ]
  },
  {
   "cell_type": "code",
   "execution_count": null,
   "id": "f1ba80d1-c402-4ea1-b8c1-59752828d2f4",
   "metadata": {},
   "outputs": [],
   "source": []
  }
 ],
 "metadata": {
  "kernelspec": {
   "display_name": "Python 3 (ipykernel)",
   "language": "python",
   "name": "python3"
  },
  "language_info": {
   "codemirror_mode": {
    "name": "ipython",
    "version": 3
   },
   "file_extension": ".py",
   "mimetype": "text/x-python",
   "name": "python",
   "nbconvert_exporter": "python",
   "pygments_lexer": "ipython3",
   "version": "3.11.7"
  }
 },
 "nbformat": 4,
 "nbformat_minor": 5
}
