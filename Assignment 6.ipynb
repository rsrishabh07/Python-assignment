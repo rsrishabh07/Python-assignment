{
 "cells": [
  {
   "cell_type": "markdown",
   "id": "96397f8e-1584-4398-b07c-e5664de97f56",
   "metadata": {},
   "source": [
    "1. Write a Python Program to Display Fibonacci Sequence Using Recursion?"
   ]
  },
  {
   "cell_type": "code",
   "execution_count": 23,
   "id": "5990d87e-af92-4d7c-b867-e5356f59557f",
   "metadata": {},
   "outputs": [
    {
     "name": "stdin",
     "output_type": "stream",
     "text": [
      "Enter the number : 5\n"
     ]
    },
    {
     "name": "stdout",
     "output_type": "stream",
     "text": [
      "Fibonacci sequence\n",
      "0\n",
      "1\n",
      "1\n",
      "2\n",
      "3\n"
     ]
    }
   ],
   "source": [
    "def fib(num):\n",
    "    if num <= 1:\n",
    "        return num\n",
    "    else:\n",
    "        return fib(num-1)+fib(num-2)\n",
    "num = int(input(\"Enter the number :\"))\n",
    "\n",
    "if num <= 0:\n",
    "    print(\"Enter the positive number\")\n",
    "else:\n",
    "    print(\"Fibonacci sequence\")\n",
    "    for i in range (num):\n",
    "        print(fib(i))"
   ]
  },
  {
   "cell_type": "markdown",
   "id": "4b462f9d-56c5-4520-9812-2c3203652829",
   "metadata": {},
   "source": [
    "2. Write a Python Program to Find Factorial of Number Using Recursion?"
   ]
  },
  {
   "cell_type": "code",
   "execution_count": 22,
   "id": "8305aeb5-70dc-4914-beae-b0c35195c14c",
   "metadata": {},
   "outputs": [
    {
     "name": "stdin",
     "output_type": "stream",
     "text": [
      "Enter the number : 5\n"
     ]
    },
    {
     "name": "stdout",
     "output_type": "stream",
     "text": [
      "Factorial of given number 120\n"
     ]
    }
   ],
   "source": [
    "def fac(num):\n",
    "    if num == 1:\n",
    "        return 1\n",
    "    else:\n",
    "        return (num* fac(num-1))\n",
    "\n",
    "num = int(input(\"Enter the number :\"))\n",
    "\n",
    "if num <= 0:\n",
    "    print(\"Factorial of less then 1 is not exists\")\n",
    "else:\n",
    "    print(\"Factorial of given number\",fac(num))    "
   ]
  },
  {
   "cell_type": "markdown",
   "id": "cdb828fb-abaf-4b4e-b86c-3273831f7a27",
   "metadata": {},
   "source": [
    "3. Write a Python Program to calculate your Body Mass Index?"
   ]
  },
  {
   "cell_type": "code",
   "execution_count": 24,
   "id": "da5bac24-3f64-4183-8ac9-adafd777db68",
   "metadata": {},
   "outputs": [
    {
     "name": "stdin",
     "output_type": "stream",
     "text": [
      "Enter the weight in kg : 55\n",
      "Enter the height in meter : 1.6\n"
     ]
    },
    {
     "name": "stdout",
     "output_type": "stream",
     "text": [
      "BMI is : 21.484374999999996\n"
     ]
    }
   ],
   "source": [
    "KM = float(input(\"Enter the weight in kg :\"))\n",
    "HG = float(input(\"Enter the height in meter :\"))\n",
    "\n",
    "BMI = KM/(HG*HG)\n",
    "\n",
    "print(\"BMI is :\",BMI)"
   ]
  },
  {
   "cell_type": "markdown",
   "id": "c73963eb-c5cc-47bd-9ec6-f0b109fd894d",
   "metadata": {},
   "source": [
    "4. Write a Python Program to calculate the natural logarithm of any number?"
   ]
  },
  {
   "cell_type": "code",
   "execution_count": 5,
   "id": "e02f237f-c88f-436b-b863-0668f3e95e45",
   "metadata": {},
   "outputs": [
    {
     "name": "stdin",
     "output_type": "stream",
     "text": [
      "enter the number: 10\n"
     ]
    },
    {
     "name": "stdout",
     "output_type": "stream",
     "text": [
      "2.302585092994046\n"
     ]
    }
   ],
   "source": [
    "import math\n",
    "\n",
    "natural_logarithm = math.log(int(input(\"enter the number:\")))\n",
    "\n",
    "print(natural_logarithm)"
   ]
  },
  {
   "cell_type": "markdown",
   "id": "95dc6011-8874-406e-a026-88063ca2daa2",
   "metadata": {},
   "source": [
    "5. Write a Python Program for cube sum of first n natural numbers?"
   ]
  },
  {
   "cell_type": "code",
   "execution_count": 3,
   "id": "d37fd4e4-2c26-48c8-95d6-275c54407a22",
   "metadata": {},
   "outputs": [
    {
     "name": "stdin",
     "output_type": "stream",
     "text": [
      "Enter the number : 8\n"
     ]
    },
    {
     "name": "stdout",
     "output_type": "stream",
     "text": [
      "cube of natural number: 1296\n"
     ]
    }
   ],
   "source": [
    "num = int(input(\"Enter the number :\"))\n",
    "result = 0\n",
    "for n in range(1,num+1):\n",
    "    result = result + (n*n*n)\n",
    "print(\"cube of natural number:\",result)\n"
   ]
  },
  {
   "cell_type": "code",
   "execution_count": null,
   "id": "c5a8ffbe-c42b-47ed-88f4-10b3433d81c7",
   "metadata": {},
   "outputs": [],
   "source": []
  }
 ],
 "metadata": {
  "kernelspec": {
   "display_name": "Python 3 (ipykernel)",
   "language": "python",
   "name": "python3"
  },
  "language_info": {
   "codemirror_mode": {
    "name": "ipython",
    "version": 3
   },
   "file_extension": ".py",
   "mimetype": "text/x-python",
   "name": "python",
   "nbconvert_exporter": "python",
   "pygments_lexer": "ipython3",
   "version": "3.11.7"
  }
 },
 "nbformat": 4,
 "nbformat_minor": 5
}
