{
 "cells": [
  {
   "cell_type": "markdown",
   "id": "d450ad28-f7ff-418d-b50f-fc6d1bbff290",
   "metadata": {},
   "source": [
    "1. Write a Python Program to Find the Factorial of a Number?"
   ]
  },
  {
   "cell_type": "code",
   "execution_count": 6,
   "id": "ca47f984-2a81-4d05-b69b-c24793f543da",
   "metadata": {},
   "outputs": [
    {
     "name": "stdin",
     "output_type": "stream",
     "text": [
      "Enter the number : 5\n"
     ]
    },
    {
     "name": "stdout",
     "output_type": "stream",
     "text": [
      "factorial of 5 is 120\n"
     ]
    }
   ],
   "source": [
    "num = int(input(\"Enter the number :\"))\n",
    "fact = 1\n",
    "\n",
    "for i in range(1, num+1):\n",
    "    fact *= i\n",
    "print(\"factorial of\",num,\"is\", fact)"
   ]
  },
  {
   "cell_type": "markdown",
   "id": "dad23bee-a558-4ce3-959b-1cb471b94f86",
   "metadata": {},
   "source": [
    "2. Write a Python Program to Display the multiplication Table?"
   ]
  },
  {
   "cell_type": "code",
   "execution_count": null,
   "id": "4ef2ce7a-3c0b-434c-8256-8ccce0812f16",
   "metadata": {},
   "outputs": [],
   "source": [
    "num = int(input(\"Enter number :\"))\n",
    "i = 1\n",
    "\n",
    "while i <= 10:\n",
    "    print(num*i)\n",
    "    i += 1\n",
    "\n",
    "print(i)"
   ]
  },
  {
   "cell_type": "markdown",
   "id": "9b9ee7bf-edc7-4bc7-ba29-bf38eb27c1c4",
   "metadata": {},
   "source": [
    "3. Write a Python Program to Print the Fibonacci sequence?"
   ]
  },
  {
   "cell_type": "code",
   "execution_count": 4,
   "id": "dff8aa40-e6fa-4f66-9dfd-a0df6b5ee4a3",
   "metadata": {},
   "outputs": [
    {
     "name": "stdin",
     "output_type": "stream",
     "text": [
      "Enter the number for create fibonacci sequence : 4\n"
     ]
    },
    {
     "name": "stdout",
     "output_type": "stream",
     "text": [
      "0\n",
      "1\n",
      "1\n",
      "2\n",
      "3\n",
      "5\n"
     ]
    }
   ],
   "source": [
    "a = 0\n",
    "b = 1\n",
    "\n",
    "num = int(input(\"Enter the number for create fibonacci sequence :\"))\n",
    "\n",
    "if num == 1:\n",
    "    print(a)\n",
    "else:\n",
    "    print(a)\n",
    "    print(b)\n",
    "    for i in range (1,num+1):\n",
    "        c = a+b\n",
    "        a = b\n",
    "        b = c\n",
    "        print(c)"
   ]
  },
  {
   "cell_type": "markdown",
   "id": "563bb88e-f737-437e-a890-de7e763023bc",
   "metadata": {},
   "source": [
    "4. Write a Python Program to Check Armstrong Number?"
   ]
  },
  {
   "cell_type": "code",
   "execution_count": 13,
   "id": "af73f4cf-8c27-4ce9-9b88-66e607ab7d7d",
   "metadata": {},
   "outputs": [
    {
     "name": "stdin",
     "output_type": "stream",
     "text": [
      "Enter the number : 370\n"
     ]
    },
    {
     "name": "stdout",
     "output_type": "stream",
     "text": [
      "it is a armstrong number\n"
     ]
    }
   ],
   "source": [
    "number = int(input(\"Enter the number :\"))\n",
    "order = len(str(number))\n",
    "\n",
    "sum_num = 0\n",
    "temp_num = number\n",
    "\n",
    "while temp_num > 0:\n",
    "    digit = temp_num%10\n",
    "    sum_num += digit**order\n",
    "    temp_num //= 10\n",
    "\n",
    "if sum_num == number:\n",
    "    print(\"it is a armstrong number\")\n",
    "\n",
    "else:\n",
    "    print(\"it is not a armstrong number\")\n",
    "    "
   ]
  },
  {
   "cell_type": "markdown",
   "id": "370266b3-189b-40e9-bb66-a86c66cad940",
   "metadata": {},
   "source": [
    "5. Write a Python Program to Find Armstrong Number in an Interval?"
   ]
  },
  {
   "cell_type": "code",
   "execution_count": 24,
   "id": "e89509d0-5f63-4e5b-a1ce-85b1eb5ac5ce",
   "metadata": {},
   "outputs": [
    {
     "name": "stdin",
     "output_type": "stream",
     "text": [
      "Start number : 100\n",
      "Last number : 1000\n"
     ]
    },
    {
     "name": "stdout",
     "output_type": "stream",
     "text": [
      "153\n",
      "370\n",
      "371\n",
      "407\n",
      "total armstrong number between 100 and 1000\n"
     ]
    }
   ],
   "source": [
    "first_num = int(input(\"Start number :\"))\n",
    "second_num = int(input(\"Last number :\"))\n",
    "\n",
    "for num in range (first_num,second_num+1):\n",
    "    order = len(str(number))\n",
    "    sum = 0\n",
    "    temp = num\n",
    "    while temp > 0:\n",
    "        digit = temp%10\n",
    "        sum += digit**order\n",
    "        temp //= 10\n",
    "    if num == sum:\n",
    "        print(num)\n",
    "print(\"total armstrong number between\",first_num,\"and\" ,second_num)"
   ]
  },
  {
   "cell_type": "markdown",
   "id": "2cff37a2-130b-4186-8a2c-618289a917de",
   "metadata": {},
   "source": [
    "6. Write a Python Program to Find the Sum of Natural Numbers?"
   ]
  },
  {
   "cell_type": "code",
   "execution_count": 43,
   "id": "6565b976-6162-4f1a-b3dd-6483054ed1c2",
   "metadata": {},
   "outputs": [
    {
     "name": "stdin",
     "output_type": "stream",
     "text": [
      "Enter the number : 0\n"
     ]
    },
    {
     "name": "stdout",
     "output_type": "stream",
     "text": [
      "Please enter the positive number\n"
     ]
    }
   ],
   "source": [
    "number = int(input(\"Enter the number :\"))\n",
    "\n",
    "if number < 0:\n",
    "    print (\"Please enter the positive number\")\n",
    "\n",
    "elif number == 0:\n",
    "    print (\"Please enter the positive number\")\n",
    "\n",
    "else:\n",
    "    sum = 0\n",
    "    while number > 0:\n",
    "        sum += number\n",
    "        number -= 1\n",
    "        print (sum)"
   ]
  },
  {
   "cell_type": "code",
   "execution_count": null,
   "id": "21f4a24b-b691-4180-aca2-2fb264b23f9e",
   "metadata": {},
   "outputs": [],
   "source": []
  }
 ],
 "metadata": {
  "kernelspec": {
   "display_name": "Python 3 (ipykernel)",
   "language": "python",
   "name": "python3"
  },
  "language_info": {
   "codemirror_mode": {
    "name": "ipython",
    "version": 3
   },
   "file_extension": ".py",
   "mimetype": "text/x-python",
   "name": "python",
   "nbconvert_exporter": "python",
   "pygments_lexer": "ipython3",
   "version": "3.11.7"
  }
 },
 "nbformat": 4,
 "nbformat_minor": 5
}
