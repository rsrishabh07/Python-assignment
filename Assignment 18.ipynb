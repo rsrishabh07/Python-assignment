{
 "cells": [
  {
   "cell_type": "markdown",
   "id": "5798aa27-3aa1-43e5-9a2b-6e470dd87c6a",
   "metadata": {},
   "source": [
    "Question 1. Create a function that takes a list of non-negative integers and strings and return a new list\r\n",
    "without the strings."
   ]
  },
  {
   "cell_type": "code",
   "execution_count": 4,
   "id": "ce726c94-1d95-4328-a3a0-84e32bdcaa53",
   "metadata": {},
   "outputs": [
    {
     "name": "stdout",
     "output_type": "stream",
     "text": [
      "List2 : [1, 2]\n"
     ]
    }
   ],
   "source": [
    "List = ([1, 2, \"a\", \"b\"])\n",
    "\n",
    "def int_list(List):\n",
    "    new_list = []\n",
    "    for i in List:\n",
    "        if type(i) == int:\n",
    "            new_list.append(i)\n",
    "    return new_list\n",
    "\n",
    "print(\"List2 :\",int_list(List))"
   ]
  },
  {
   "cell_type": "markdown",
   "id": "c0c344f2-dd8b-42fe-b2dc-6027849bd7fa",
   "metadata": {},
   "source": [
    "Question 2\n",
    "The \"Reverser\" takes a string as input and returns that string in reverse order, with the\n",
    "opposite case."
   ]
  },
  {
   "cell_type": "code",
   "execution_count": 11,
   "id": "aaf54646-6f9b-4f38-9357-b48cb6eab53b",
   "metadata": {},
   "outputs": [
    {
     "name": "stdin",
     "output_type": "stream",
     "text": [
      "Enter the string:  Hello World\n"
     ]
    },
    {
     "name": "stdout",
     "output_type": "stream",
     "text": [
      "Reverser string : DLROw OLLEh\n"
     ]
    }
   ],
   "source": [
    "def reverse_order(string):\n",
    "    string = string[::-1]\n",
    "    return string.swapcase()\n",
    "\n",
    "string = input(\"Enter the string: \")\n",
    "\n",
    "print(\"Reverser string :\",reverse_order(string))"
   ]
  },
  {
   "cell_type": "markdown",
   "id": "4251a674-e2b2-47c8-88cf-8da3f25d91ee",
   "metadata": {},
   "source": [
    "Question 3\n",
    "You can assign variables from lists like this:\n",
    "lst = [1, 2, 3, 4, 5, 6]\n",
    "first = lst[0]\n",
    "middle = lst[1:-1]\n",
    "last = lst[-1]"
   ]
  },
  {
   "cell_type": "code",
   "execution_count": 17,
   "id": "a4407144-3fd0-4116-b5ed-c370a207be9d",
   "metadata": {},
   "outputs": [
    {
     "name": "stdout",
     "output_type": "stream",
     "text": [
      "List : [1, 2, 3, 4, 5, 6]\n",
      "first : 1\n",
      "middle : [2, 3, 4, 5]\n",
      "last : 6\n"
     ]
    }
   ],
   "source": [
    "list = [1, 2, 3, 4, 5, 6]\n",
    "first ,*middle,last = list\n",
    "\n",
    "print(\"List :\",list)\n",
    "print(\"first :\",first)\n",
    "print(\"middle :\",middle)\n",
    "print(\"last :\",last)"
   ]
  },
  {
   "cell_type": "markdown",
   "id": "9dd91132-59ea-4aa1-9ff1-a9a89ccfd2ac",
   "metadata": {},
   "source": [
    "Question 4\n",
    "Write a function that calculates the factorial of a number recursively."
   ]
  },
  {
   "cell_type": "code",
   "execution_count": 23,
   "id": "68ce4c40-9583-49aa-abcc-7c5fff7d34b6",
   "metadata": {},
   "outputs": [
    {
     "name": "stdin",
     "output_type": "stream",
     "text": [
      "Enter the number : 5\n"
     ]
    },
    {
     "name": "stdout",
     "output_type": "stream",
     "text": [
      "Factorial of 5 is 120\n"
     ]
    }
   ],
   "source": [
    "def fac(num):     \n",
    "    if num == 0:\n",
    "        return 1    \n",
    "    return num * fac(num-1)\n",
    "\n",
    "num = int(input(\"Enter the number :\"))\n",
    "print(\"Factorial of\", num, \"is\", fac(num))"
   ]
  },
  {
   "cell_type": "markdown",
   "id": "38b507be-e665-4b9c-9ceb-c92434a97575",
   "metadata": {},
   "source": [
    "Question 5\n",
    "Write a function that moves all elements of one type to the end of the list."
   ]
  },
  {
   "cell_type": "code",
   "execution_count": 13,
   "id": "3284f0af-7a5d-4116-b444-53f92857e384",
   "metadata": {},
   "outputs": [
    {
     "name": "stdout",
     "output_type": "stream",
     "text": [
      "b a a a "
     ]
    }
   ],
   "source": [
    "def move_to_end(array,list):\n",
    "     \n",
    "    i = 0\n",
    "    j = len(array)-1\n",
    "  \n",
    "    while (i<j):\n",
    "        \n",
    "        while (i<j and array[j] == list):\n",
    "            j-=1\n",
    "  \n",
    "        if (array[i] == list):\n",
    "            array[i], array[j] = array[j] , array[i]\n",
    "  \n",
    "        i += 1\n",
    "\n",
    "    return array\n",
    "\n",
    "array = ['a', 'a', 'a', 'b']\n",
    "list = \"a\"\n",
    "ans = move_to_end(array,list)\n",
    "for i in range(len(array)):\n",
    "    print(ans[i] ,end= \" \")"
   ]
  },
  {
   "cell_type": "code",
   "execution_count": 14,
   "id": "ccf69326-75e7-4950-90e8-c1d8c6e619f2",
   "metadata": {},
   "outputs": [
    {
     "name": "stdout",
     "output_type": "stream",
     "text": [
      "7 8 4 1 2 3 9 "
     ]
    }
   ],
   "source": [
    "array = [7, 8, 9, 1, 2, 3, 4]\n",
    "list = 9\n",
    "ans = move_to_end(array,list)\n",
    "for i in range(len(array)):\n",
    "    print(ans[i] ,end= \" \")"
   ]
  },
  {
   "cell_type": "code",
   "execution_count": 12,
   "id": "537e6670-652e-4c4a-bea5-2ee5342bd440",
   "metadata": {},
   "outputs": [
    {
     "name": "stdout",
     "output_type": "stream",
     "text": [
      "4 3 2 4 1 1 "
     ]
    }
   ],
   "source": [
    "array = [1, 3, 2, 4, 4, 1]\n",
    "list = 1\n",
    "ans = move_to_end(array,list)\n",
    "for i in range(len(array)):\n",
    "    print(ans[i] ,end= \" \")"
   ]
  },
  {
   "cell_type": "code",
   "execution_count": null,
   "id": "c33d1f13-a613-4b53-99dc-48af5f310d35",
   "metadata": {},
   "outputs": [],
   "source": []
  }
 ],
 "metadata": {
  "kernelspec": {
   "display_name": "Python 3 (ipykernel)",
   "language": "python",
   "name": "python3"
  },
  "language_info": {
   "codemirror_mode": {
    "name": "ipython",
    "version": 3
   },
   "file_extension": ".py",
   "mimetype": "text/x-python",
   "name": "python",
   "nbconvert_exporter": "python",
   "pygments_lexer": "ipython3",
   "version": "3.11.7"
  }
 },
 "nbformat": 4,
 "nbformat_minor": 5
}
