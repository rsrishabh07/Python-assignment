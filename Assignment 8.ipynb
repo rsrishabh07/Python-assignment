{
 "cells": [
  {
   "cell_type": "markdown",
   "id": "ac82a567-8259-4dee-a053-94a62cd98622",
   "metadata": {},
   "source": [
    "1. Write a Python Program to Add Two Matrices?"
   ]
  },
  {
   "cell_type": "code",
   "execution_count": 3,
   "id": "e9fe3f3f-ea1b-4165-b804-adddb2bce9a3",
   "metadata": {},
   "outputs": [
    {
     "name": "stdout",
     "output_type": "stream",
     "text": [
      "[14, 8, 21]\n",
      "[11, 10, 16]\n",
      "[24, 3, 13]\n"
     ]
    }
   ],
   "source": [
    "Mat1 = [[8,6,9],\n",
    "        [4,7,3],\n",
    "        [7,1,9]]\n",
    "\n",
    "Mat2 = [[6,2,12],\n",
    "        [7,3,13],\n",
    "        [17,2,4]]\n",
    "\n",
    "result = [[0,0,0],\n",
    "          [0,0,0],\n",
    "          [0,0,0]] \n",
    "\n",
    "for i in range (len(Mat1)):\n",
    "    for j in range (len(Mat1[0])):\n",
    "        result[i][j]= Mat1[i][j] + Mat2[i][j]\n",
    "\n",
    "for r in result:\n",
    "    print(r)"
   ]
  },
  {
   "cell_type": "markdown",
   "id": "1afe4768-be5d-4e2a-ba9b-9e47537d60b3",
   "metadata": {},
   "source": [
    "2. Write a Python Program to Multiply Two Matrices?"
   ]
  },
  {
   "cell_type": "code",
   "execution_count": 4,
   "id": "5ed175ba-872f-49f8-804d-daea50ff3df4",
   "metadata": {},
   "outputs": [
    {
     "name": "stdout",
     "output_type": "stream",
     "text": [
      "[48, 12, 108]\n",
      "[28, 21, 39]\n",
      "[119, 2, 36]\n"
     ]
    }
   ],
   "source": [
    "Mat1 = [[8,6,9],\n",
    "        [4,7,3],\n",
    "        [7,1,9]]\n",
    "\n",
    "Mat2 = [[6,2,12],\n",
    "        [7,3,13],\n",
    "        [17,2,4]]\n",
    "\n",
    "result = [[0,0,0],\n",
    "          [0,0,0],\n",
    "          [0,0,0]] \n",
    "\n",
    "for i in range (len(Mat1)):\n",
    "    for j in range (len(Mat1[0])):\n",
    "        result[i][j]= Mat1[i][j] * Mat2[i][j]\n",
    "\n",
    "for r in result:\n",
    "    print(r)"
   ]
  },
  {
   "cell_type": "markdown",
   "id": "98491d94-52b3-41bf-a4c9-9594c760a2a4",
   "metadata": {},
   "source": [
    "3. Write a Python Program to Transpose a Matrix?"
   ]
  },
  {
   "cell_type": "code",
   "execution_count": 13,
   "id": "12314eb5-c37f-42aa-ace1-3a79e91bbdcd",
   "metadata": {},
   "outputs": [
    {
     "name": "stdout",
     "output_type": "stream",
     "text": [
      "[10, 19]\n",
      "[9, 25]\n",
      "[11, 41]\n"
     ]
    }
   ],
   "source": [
    "Mat = [[10,9,11],\n",
    "        [19,25,41]]\n",
    "\n",
    "T = [[0,0],\n",
    "     [0,0],\n",
    "     [0,0]]\n",
    "\n",
    "for i in range(len(Mat)):\n",
    "    for j in range(len(Mat[0])):\n",
    "        T[j][i] = Mat[i][j]\n",
    "\n",
    "for i in T:\n",
    "    print(i)"
   ]
  },
  {
   "cell_type": "markdown",
   "id": "fad8e9cd-ddf7-4160-9098-29160da4a942",
   "metadata": {},
   "source": [
    "4. Write a Python Program to Sort Words in Alphabetic Order?"
   ]
  },
  {
   "cell_type": "code",
   "execution_count": 29,
   "id": "18859669-36e3-4d35-b4ab-95c083db3222",
   "metadata": {},
   "outputs": [
    {
     "name": "stdout",
     "output_type": "stream",
     "text": [
      "a\n",
      "case\n",
      "is\n",
      "language\n",
      "python\n",
      "sensitive\n"
     ]
    }
   ],
   "source": [
    "string = \"Python Is a Case Sensitive Language\"\n",
    "    \n",
    "words = string.split()\n",
    "\n",
    "for i in range (len(words)):\n",
    "    words[i] = words[i].lower()\n",
    "    \n",
    "words.sort()\n",
    "    \n",
    "for i in words:\n",
    "    print(i)"
   ]
  },
  {
   "cell_type": "markdown",
   "id": "101d382b-72f7-4cc2-aef3-7aff03fe47e3",
   "metadata": {},
   "source": [
    "5. Write a Python Program to Remove Punctuation From a String?"
   ]
  },
  {
   "cell_type": "code",
   "execution_count": 31,
   "id": "6ddfd9fd-00a7-49f2-b010-2254f935bb5d",
   "metadata": {},
   "outputs": [
    {
     "name": "stdin",
     "output_type": "stream",
     "text": [
      "Enter something here : hi,,,,, im.... using;;;;;;; python!!!!!!!!!!\n"
     ]
    },
    {
     "name": "stdout",
     "output_type": "stream",
     "text": [
      "hi im using python\n"
     ]
    }
   ],
   "source": [
    "pun = '''!()-[]{}\\/;:'\"@#$%^&*~<>_.,?'''\n",
    "\n",
    "string = input(\"Enter something here :\")\n",
    "\n",
    "empty_str = \"\"\n",
    "\n",
    "for i in string:\n",
    "    if i not in pun:\n",
    "        empty_str += i\n",
    "\n",
    "print(empty_str)\n",
    "\n"
   ]
  },
  {
   "cell_type": "code",
   "execution_count": null,
   "id": "697b7df1-898d-4beb-a691-b373f8a0d923",
   "metadata": {},
   "outputs": [],
   "source": []
  }
 ],
 "metadata": {
  "kernelspec": {
   "display_name": "Python 3 (ipykernel)",
   "language": "python",
   "name": "python3"
  },
  "language_info": {
   "codemirror_mode": {
    "name": "ipython",
    "version": 3
   },
   "file_extension": ".py",
   "mimetype": "text/x-python",
   "name": "python",
   "nbconvert_exporter": "python",
   "pygments_lexer": "ipython3",
   "version": "3.11.7"
  }
 },
 "nbformat": 4,
 "nbformat_minor": 5
}
