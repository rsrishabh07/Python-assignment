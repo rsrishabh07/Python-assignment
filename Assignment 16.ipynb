{
 "cells": [
  {
   "cell_type": "markdown",
   "id": "eed41047-df64-46da-b44d-ecfee3a8ca7d",
   "metadata": {},
   "source": [
    "Question1. Write a function that stutters a word as if someone is struggling to read it. The\n",
    "first two letters are repeated twice with an ellipsis ... and space after each, and then the\n",
    "word is pronounced with a question mark ?."
   ]
  },
  {
   "cell_type": "code",
   "execution_count": 13,
   "id": "bc21aff7-ffac-4593-a2cd-ab7391be4322",
   "metadata": {},
   "outputs": [
    {
     "name": "stdin",
     "output_type": "stream",
     "text": [
      "Enter theword :  incredible\n"
     ]
    },
    {
     "name": "stdout",
     "output_type": "stream",
     "text": [
      "in... in... incredible?\n"
     ]
    }
   ],
   "source": [
    "def stutter(word):\n",
    "    return (2*(word[:2]+'... '))+(word+'?')\n",
    "word = input(\"Enter theword : \")\n",
    "\n",
    "print(stutter(word))"
   ]
  },
  {
   "cell_type": "markdown",
   "id": "f33b9bd7-49dc-4a66-a699-a3a3e1de2fd4",
   "metadata": {},
   "source": [
    "Question 2.Create a function that takes an angle in radians and returns the corresponding\n",
    "angle in degrees rounded to one decimal place."
   ]
  },
  {
   "cell_type": "code",
   "execution_count": 11,
   "id": "e2cb4f13-15de-4db3-b54a-61828e793eae",
   "metadata": {},
   "outputs": [
    {
     "name": "stdin",
     "output_type": "stream",
     "text": [
      "Enter the radian number :  1\n"
     ]
    },
    {
     "name": "stdout",
     "output_type": "stream",
     "text": [
      "degree = 57.295827908797776\n"
     ]
    }
   ],
   "source": [
    "def angle(rad):\n",
    "    pi = 3.14159\n",
    "    \n",
    "    deg = rad * (180/pi)\n",
    "    return deg\n",
    "\n",
    "rad = float(input('Enter the radian number : '))\n",
    "print(\"degree =\",(angle(rad)))"
   ]
  },
  {
   "cell_type": "markdown",
   "id": "4507b37e-5c67-435c-b253-11c6ce50a8fb",
   "metadata": {},
   "source": [
    "Question 3. In this challenge, establish if a given integer num is a Curzon number. If 1 plus\n",
    "2 elevated to num is exactly divisible by 1 plus 2 multiplied by num, then num is a Curzon\n",
    "number."
   ]
  },
  {
   "cell_type": "code",
   "execution_count": 18,
   "id": "7e861205-a71c-46c6-ac80-91c2b9946e8e",
   "metadata": {},
   "outputs": [
    {
     "name": "stdin",
     "output_type": "stream",
     "text": [
      "Enter a number :  33\n"
     ]
    },
    {
     "name": "stdout",
     "output_type": "stream",
     "text": [
      "33 is Curzon Number\n"
     ]
    }
   ],
   "source": [
    "def curzon_num(num):\n",
    " \n",
    "    power, product = 0, 0\n",
    " \n",
    "    power = pow(2, num) + 1\n",
    " \n",
    "    product = 2 * num + 1\n",
    " \n",
    "    if (power % product == 0):\n",
    "        print(num, \"is Curzon Number\")\n",
    "    else:\n",
    "        print(num, \"is not a Curzon Number\")\n",
    "        \n",
    "num = int(input('Enter a number : '))\n",
    "curzon_num(num)"
   ]
  },
  {
   "cell_type": "markdown",
   "id": "272e7437-b746-48f8-8b44-d62a81e75cc3",
   "metadata": {},
   "source": [
    "Question 4.Given the side length x find the area of a hexagon."
   ]
  },
  {
   "cell_type": "code",
   "execution_count": 23,
   "id": "d95e30a4-e6f8-4af4-aa0a-81fea19cada3",
   "metadata": {},
   "outputs": [
    {
     "name": "stdin",
     "output_type": "stream",
     "text": [
      "Enter the length :  4\n"
     ]
    },
    {
     "name": "stdout",
     "output_type": "stream",
     "text": [
      "Area: 41.5692\n"
     ]
    }
   ],
   "source": [
    "import math\n",
    "def hex_area(s):\n",
    "    area = ((3 * math.sqrt(3) * (len_side * len_side)) / 2)\n",
    "    return area\n",
    "     \n",
    "len_side = float(input('Enter the length : '))\n",
    "\n",
    "print(\"Area:\",\"{0:.4f}\".format(hex_area(len_side)))"
   ]
  },
  {
   "cell_type": "markdown",
   "id": "5a2792b6-f89f-40da-aecf-fd228b724ca2",
   "metadata": {},
   "source": [
    "Question 5. Create a function that returns a base-2 (binary) representation of a base-10\n",
    "(decimal) string number. To convert is simple: ((2) means base-2 and (10) means base-10)\n",
    "010101001(2) = 1 + 8 + 32 + 128."
   ]
  },
  {
   "cell_type": "code",
   "execution_count": 31,
   "id": "f44eb6f5-f6a1-4a13-90c0-e0ba5d657356",
   "metadata": {},
   "outputs": [
    {
     "name": "stdout",
     "output_type": "stream",
     "text": [
      "0\n",
      "1\n",
      "10\n",
      "11\n",
      "100\n"
     ]
    }
   ],
   "source": [
    "def dec_to_bin(n):\n",
    "    return bin(n).replace(\"0b\", \"\")\n",
    "   \n",
    "for i in range(0,5):\n",
    "    print(dec_to_bin(i))"
   ]
  },
  {
   "cell_type": "code",
   "execution_count": null,
   "id": "0a97d1c8-ecb5-4928-9725-836d59400e21",
   "metadata": {},
   "outputs": [],
   "source": []
  }
 ],
 "metadata": {
  "kernelspec": {
   "display_name": "Python 3 (ipykernel)",
   "language": "python",
   "name": "python3"
  },
  "language_info": {
   "codemirror_mode": {
    "name": "ipython",
    "version": 3
   },
   "file_extension": ".py",
   "mimetype": "text/x-python",
   "name": "python",
   "nbconvert_exporter": "python",
   "pygments_lexer": "ipython3",
   "version": "3.11.7"
  }
 },
 "nbformat": 4,
 "nbformat_minor": 5
}
