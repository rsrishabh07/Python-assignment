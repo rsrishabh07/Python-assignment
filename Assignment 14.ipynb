{
 "cells": [
  {
   "cell_type": "markdown",
   "id": "786825f1-23b9-4e2a-bf0f-4d7dce0a5b70",
   "metadata": {},
   "source": [
    "Question 1:\n",
    "Define a class with a generator which can iterate the numbers, which are divisible by\n",
    "7, between a given range 0 and n."
   ]
  },
  {
   "cell_type": "code",
   "execution_count": 4,
   "id": "68db2e96-c537-4611-b02a-012474846baa",
   "metadata": {},
   "outputs": [
    {
     "name": "stdin",
     "output_type": "stream",
     "text": [
      "Enter the number : 100\n"
     ]
    },
    {
     "name": "stdout",
     "output_type": "stream",
     "text": [
      "[0, 7, 14, 21, 28, 35, 42, 49, 56, 63, 70, 77, 84, 91, 98]\n"
     ]
    }
   ],
   "source": [
    "num = int(input(\"Enter the number :\"))\n",
    "divisible_7 = [i for i in range(0, num) if (i % 7 == 0)]\n",
    "print(divisible_7)\n",
    "\n",
    "def div_check(num):\n",
    "    for i in range(num):\n",
    "        if i % 7 == 0:\n",
    "            value = True\n",
    "            break\n",
    "        else:\n",
    "            value = False\n",
    "        print(i, value)\n",
    "\n",
    "div_check(num)"
   ]
  },
  {
   "cell_type": "markdown",
   "id": "10bfd3e4-beed-4b15-8768-f299f8337a87",
   "metadata": {},
   "source": [
    "Question 2:\n",
    "Write a program to compute the frequency of the words from the input. The output\n",
    "should output after sorting the key alphanumerically."
   ]
  },
  {
   "cell_type": "code",
   "execution_count": 27,
   "id": "1bb10667-43c2-4960-b4c1-54fe9b8d05b9",
   "metadata": {},
   "outputs": [
    {
     "name": "stdin",
     "output_type": "stream",
     "text": [
      "Enter the sentence : New to Python or choosing between Python 2 and Python 3? Read Python 2 or Python 3.\n"
     ]
    },
    {
     "name": "stdout",
     "output_type": "stream",
     "text": [
      "2:2\n",
      "3.:1\n",
      "3?:1\n",
      "New:1\n",
      "Python:5\n",
      "Read:1\n",
      "and:1\n",
      "between:1\n",
      "choosing:1\n",
      "or:2\n",
      "to:1\n"
     ]
    }
   ],
   "source": [
    "sentence = input(\"Enter the sentence :\").split()\n",
    "word = sorted(set(sentence))     \n",
    "\n",
    "for i in word:\n",
    "    print(\"{0}:{1}\".format(i,sentence.count(i)))"
   ]
  },
  {
   "cell_type": "code",
   "execution_count": null,
   "id": "902a5705-e369-41a3-9b44-f5c76ae1389f",
   "metadata": {},
   "outputs": [],
   "source": [
    "Question 3:\n",
    "Define a class Person and its two child classes: Male and Female. All classes have a\n",
    "method &quot;getGender&quot; which can print &quot;Male&quot; for Male class and &quot;Female&quot; for Female\n",
    "class."
   ]
  },
  {
   "cell_type": "code",
   "execution_count": 65,
   "id": "0bad300b-6716-41e7-a90b-29e9d4a20c6a",
   "metadata": {},
   "outputs": [
    {
     "name": "stdout",
     "output_type": "stream",
     "text": [
      "Male\n",
      "Female\n"
     ]
    }
   ],
   "source": [
    "class Person(object):\n",
    "    def getGender(self):\n",
    "        return \"Unknown\"\n",
    "\n",
    "class Male(Person):\n",
    "    def getGender(self):\n",
    "        return \"Male\"\n",
    "\n",
    "class Female(Person):\n",
    "    def getGender(self):\n",
    "        return \"Female\"\n",
    "\n",
    "Male = Male()\n",
    "Female= Female()\n",
    "print (Male.getGender())\n",
    "print (Female.getGender())"
   ]
  },
  {
   "cell_type": "code",
   "execution_count": null,
   "id": "db2f5889-8d64-46fd-86ce-3fd7f8f90f78",
   "metadata": {},
   "outputs": [],
   "source": [
    "Question 4:\n",
    "Please write a program to generate all sentences where subject is in [\"I\",\"You\"] and\n",
    "verb is in [\"Play\",\"Love\"] and the object is in [\"Hockey\",\"Football\"]."
   ]
  },
  {
   "cell_type": "code",
   "execution_count": 69,
   "id": "ce95474d-2013-4771-9560-e0540f67014c",
   "metadata": {},
   "outputs": [
    {
     "name": "stdout",
     "output_type": "stream",
     "text": [
      "I Play Hockey\n",
      "I Play Football\n",
      "I Love Hockey\n",
      "I Love Football\n",
      "You Play Hockey\n",
      "You Play Football\n",
      "You Love Hockey\n",
      "You Love Football\n"
     ]
    }
   ],
   "source": [
    "subjects=[\"I\", \"You\"]\n",
    "verbs=[\"Play\", \"Love\"]\n",
    "objects=[\"Hockey\",\"Football\"]\n",
    "\n",
    "for sub in subjects:\n",
    "    for verb in verbs:\n",
    "        for obj in objects:\n",
    "            print(\"{} {} {}\".format(sub,verb,obj))"
   ]
  },
  {
   "cell_type": "markdown",
   "id": "31cfa8c9-76f7-4103-a4aa-ea1f65c803df",
   "metadata": {},
   "source": [
    "Question 5:\n",
    "Please write a program to compress and decompress the string hello world!hello\n",
    "world!hello world!hello world!."
   ]
  },
  {
   "cell_type": "code",
   "execution_count": 7,
   "id": "44a86dcb-c9d2-40ad-95db-2b7b0c07cf47",
   "metadata": {},
   "outputs": [
    {
     "name": "stdout",
     "output_type": "stream",
     "text": [
      "b'hello world!hello world!hello world!hello world!'\n"
     ]
    }
   ],
   "source": [
    "import gzip \n",
    "s = b'hello world!hello world!hello world!hello world!'\n",
    "s = gzip.compress(s) \n",
    "\n",
    "t = gzip.decompress(s) \n",
    "print(t) "
   ]
  },
  {
   "cell_type": "markdown",
   "id": "9977cf94-b9a0-4e96-810d-8fbb707ca7ac",
   "metadata": {},
   "source": [
    "Question 6:\n",
    "Please write a binary search function which searches an item in a sorted list. The\n",
    "function should return the index of element to be searched in the list."
   ]
  },
  {
   "cell_type": "code",
   "execution_count": 17,
   "id": "d200ffa8-8102-407b-b116-21157e66b03b",
   "metadata": {},
   "outputs": [
    {
     "name": "stdout",
     "output_type": "stream",
     "text": [
      "1\n"
     ]
    }
   ],
   "source": [
    "def binary_search(lst, item):\n",
    "    low = 0\n",
    "    high = len(lst) - 1\n",
    "    \n",
    "    while low <= high:\n",
    "        mid = round((low + high) / 2)\n",
    "        \n",
    "        if lst[mid] == item:\n",
    "            return mid\n",
    "        elif lst[mid] > item:\n",
    "            high = mid - 1\n",
    "        else:\n",
    "            low = mid + 1\n",
    "    return None\n",
    "    \n",
    "lst = [1,3,5,7,]\n",
    "print(binary_search(lst, 3))   "
   ]
  },
  {
   "cell_type": "code",
   "execution_count": null,
   "id": "878285db-ecce-4b57-8d1d-3c6b16646b5e",
   "metadata": {},
   "outputs": [],
   "source": []
  }
 ],
 "metadata": {
  "kernelspec": {
   "display_name": "Python 3 (ipykernel)",
   "language": "python",
   "name": "python3"
  },
  "language_info": {
   "codemirror_mode": {
    "name": "ipython",
    "version": 3
   },
   "file_extension": ".py",
   "mimetype": "text/x-python",
   "name": "python",
   "nbconvert_exporter": "python",
   "pygments_lexer": "ipython3",
   "version": "3.11.7"
  }
 },
 "nbformat": 4,
 "nbformat_minor": 5
}
