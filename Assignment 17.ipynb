{
 "cells": [
  {
   "cell_type": "markdown",
   "id": "f5ea6662-decd-4cfb-8ee2-deb803bae3ab",
   "metadata": {},
   "source": [
    "Question1. Create a function that takes three arguments a, b, c and returns the sum of the\n",
    "numbers that are evenly divided by c from the range a, b inclusive."
   ]
  },
  {
   "cell_type": "code",
   "execution_count": 2,
   "id": "315b8e20-78a1-49a6-8f79-76890e150486",
   "metadata": {},
   "outputs": [
    {
     "name": "stdin",
     "output_type": "stream",
     "text": [
      "Enter the value of a :  1\n",
      "Enter the value of b :  10\n",
      "Enter the value of c :  2\n"
     ]
    },
    {
     "name": "stdout",
     "output_type": "stream",
     "text": [
      "30\n"
     ]
    }
   ],
   "source": [
    "def sum_div(a, b, c):     \n",
    "    sum = 0\n",
    "    for i in range(a, b + 1): \n",
    "        if (i % c == 0):\n",
    "            sum += i \n",
    "    return sum\n",
    "\n",
    "a = int(input(\"Enter the value of a : \"))\n",
    "b = int(input(\"Enter the value of b : \"))\n",
    "c = int(input(\"Enter the value of c : \"))\n",
    "\n",
    "print(sum_div(a, b, c))"
   ]
  },
  {
   "cell_type": "markdown",
   "id": "7adc2797-e765-4493-86d4-c1347cb1d755",
   "metadata": {},
   "source": [
    "Question2. Create a function that returns True if a given inequality expression is correct and\n",
    "False otherwise."
   ]
  },
  {
   "cell_type": "code",
   "execution_count": 7,
   "id": "c6ce524a-e2db-4ff4-b9f6-edadc69e1de0",
   "metadata": {},
   "outputs": [
    {
     "name": "stdout",
     "output_type": "stream",
     "text": [
      "True\n",
      "False\n",
      "True\n"
     ]
    }
   ],
   "source": [
    "def corr_fal(exp) : \n",
    "    return eval (exp)\n",
    "\n",
    "print(corr_fal(\"3 < 7 < 11\"))\n",
    "print(corr_fal(\"13 > 44 > 33 > 1\"))\n",
    "print(corr_fal(\"1 < 2 < 6 < 9 > 3\"))"
   ]
  },
  {
   "cell_type": "markdown",
   "id": "01444b05-b3ae-4e63-8755-721c016f2ecb",
   "metadata": {},
   "source": [
    "Question3. Create a function that replaces all the vowels in a string with a specified character."
   ]
  },
  {
   "cell_type": "code",
   "execution_count": 12,
   "id": "26c8f3c9-d30f-4c2c-848c-b1da044f0b53",
   "metadata": {},
   "outputs": [
    {
     "name": "stdin",
     "output_type": "stream",
     "text": [
      "enter the string :  the aardvark\n",
      "Enter the character :  #\n"
     ]
    },
    {
     "name": "stdout",
     "output_type": "stream",
     "text": [
      "result after replace vowel : th# ##rdv#rk\n"
     ]
    }
   ],
   "source": [
    "def replace_vowels(str1, str2):\n",
    "    vowels = 'AEIOUaeiou'\n",
    "    for ele in vowels:  \n",
    "        str1 = str1.replace(ele, str2)  \n",
    "    return str1\n",
    "  \n",
    "str2 = input(\"enter the string : \")\n",
    "cha = input(\"Enter the character : \")\n",
    "\n",
    "print(\"result after replace vowel :\",replace_vowels(str2, cha))"
   ]
  },
  {
   "cell_type": "markdown",
   "id": "17d125ae-a4c9-4543-bb97-8a9ec7d39cea",
   "metadata": {},
   "source": [
    "Question4. Write a function that calculates the factorial of a number recursively."
   ]
  },
  {
   "cell_type": "code",
   "execution_count": 13,
   "id": "739154c0-d246-4c35-83b5-f9585652e760",
   "metadata": {},
   "outputs": [
    {
     "name": "stdin",
     "output_type": "stream",
     "text": [
      "Enter the number : 5\n"
     ]
    },
    {
     "name": "stdout",
     "output_type": "stream",
     "text": [
      "Factorial of 5 is 120\n"
     ]
    }
   ],
   "source": [
    "def fac(n):     \n",
    "    if n == 0:\n",
    "        return 1    \n",
    "    return n * fac(n-1)\n",
    "\n",
    "num = int(input(\"Enter the number :\"))\n",
    "\n",
    "print(\"Factorial of\", num, \"is\", fac(num))"
   ]
  },
  {
   "cell_type": "markdown",
   "id": "57ef53ae-530e-4dcc-ab6d-54fea1aefa9f",
   "metadata": {},
   "source": [
    "Question 5\n",
    "Hamming distance is the number of characters that differ between two strings."
   ]
  },
  {
   "cell_type": "code",
   "execution_count": 15,
   "id": "dfd77d9b-4339-4015-a466-b9d4112a2431",
   "metadata": {},
   "outputs": [
    {
     "name": "stdout",
     "output_type": "stream",
     "text": [
      "1\n"
     ]
    }
   ],
   "source": [
    "def hamm_dis(str1, str2):\n",
    "    i = 0\n",
    "    count = 0\n",
    " \n",
    "    while(i < len(str1)):\n",
    "        if(str1[i] != str2[i]):\n",
    "            count += 1\n",
    "        i += 1\n",
    "    return count\n",
    "\n",
    "str1 = \"abcbba\"\n",
    "str2 = \"abcbda\"\n",
    " \n",
    "print(hamm_dis(str1, str2))"
   ]
  },
  {
   "cell_type": "code",
   "execution_count": null,
   "id": "a014c125-2a6c-4e72-a1f0-c6ba611b0e86",
   "metadata": {},
   "outputs": [],
   "source": []
  }
 ],
 "metadata": {
  "kernelspec": {
   "display_name": "Python 3 (ipykernel)",
   "language": "python",
   "name": "python3"
  },
  "language_info": {
   "codemirror_mode": {
    "name": "ipython",
    "version": 3
   },
   "file_extension": ".py",
   "mimetype": "text/x-python",
   "name": "python",
   "nbconvert_exporter": "python",
   "pygments_lexer": "ipython3",
   "version": "3.11.7"
  }
 },
 "nbformat": 4,
 "nbformat_minor": 5
}
