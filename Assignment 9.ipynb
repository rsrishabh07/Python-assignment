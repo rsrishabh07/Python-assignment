{
 "cells": [
  {
   "cell_type": "code",
   "execution_count": null,
   "id": "503ffbc0-45c8-4663-85ce-caee6a7b88e6",
   "metadata": {},
   "outputs": [],
   "source": [
    "1. Write a Python program to check if the given number is a Disarium Number?"
   ]
  },
  {
   "cell_type": "code",
   "execution_count": 2,
   "id": "b89100b4-eaa7-497b-bc22-a23f375d1696",
   "metadata": {},
   "outputs": [
    {
     "name": "stdin",
     "output_type": "stream",
     "text": [
      "Enter the number : 89\n"
     ]
    },
    {
     "name": "stdout",
     "output_type": "stream",
     "text": [
      "It is a Disarium number\n"
     ]
    }
   ],
   "source": [
    "num = int(input(\"Enter the number :\"))\n",
    "sum = 0\n",
    "j = 1\n",
    "temp = num\n",
    "while (temp != 0):\n",
    "    rem = temp%10\n",
    "    sum = sum*10+rem\n",
    "    temp = int(temp/10)\n",
    "temp = sum\n",
    "sum = 0\n",
    "while (temp != 0):\n",
    "    rem = temp%10\n",
    "    sum = sum+pow(rem,j)\n",
    "    temp = int(temp/10)\n",
    "    j = j+1\n",
    "if sum == num:\n",
    "    print(\"It is a Disarium number\")\n",
    "else:\n",
    "    print(\"It is not a Disarium number\")"
   ]
  },
  {
   "cell_type": "code",
   "execution_count": null,
   "id": "41f6fdb9-2393-404b-9f40-a26d26a7fc08",
   "metadata": {},
   "outputs": [],
   "source": [
    "2. Write a Python program to print all disarium numbers between 1 to 100?"
   ]
  },
  {
   "cell_type": "code",
   "execution_count": 3,
   "id": "69080af3-54f0-47df-a9e3-f0cd47a0be96",
   "metadata": {},
   "outputs": [
    {
     "name": "stdout",
     "output_type": "stream",
     "text": [
      "The disarium numbers between 1 and 100 \n",
      "1\n",
      "2\n",
      "3\n",
      "4\n",
      "5\n",
      "6\n",
      "7\n",
      "8\n",
      "9\n",
      "89\n"
     ]
    }
   ],
   "source": [
    "def len_cal(value):\n",
    "   lenght = 0\n",
    "   while(value != 0):\n",
    "      lenght = lenght + 1\n",
    "      value = value//10\n",
    "   return lenght\n",
    "\n",
    "def sum_digit(num):\n",
    "   rem = sum = 0\n",
    "   j = len_cal(num)\n",
    "\n",
    "   while(num > 0):\n",
    "      rem = num%10\n",
    "      sum = sum + pow(rem,j)\n",
    "      num = num//10\n",
    "      j = j - 1\n",
    "   return sum\n",
    "\n",
    "result = 0\n",
    "\n",
    "print(\"The disarium numbers between 1 and 100 \")\n",
    "for i in range(1, 101):\n",
    "   result = sum_digit(i)\n",
    "   if(result == i):\n",
    "      print(i)"
   ]
  },
  {
   "cell_type": "code",
   "execution_count": null,
   "id": "d26a77ca-e9ca-4ecf-947a-ccbdfa9911ba",
   "metadata": {},
   "outputs": [],
   "source": [
    "3. Write a Python program to check if the given number is Happy Number?"
   ]
  },
  {
   "cell_type": "code",
   "execution_count": 1,
   "id": "1cf43d54-336a-48cd-8586-4265e5b76505",
   "metadata": {},
   "outputs": [
    {
     "name": "stdin",
     "output_type": "stream",
     "text": [
      "Enter the number : 5\n"
     ]
    },
    {
     "name": "stdout",
     "output_type": "stream",
     "text": [
      "5 it is not a happy number\n"
     ]
    }
   ],
   "source": [
    "num = int(input(\"Enter the number :\"))\n",
    "temp = num\n",
    "while sum!=1 and sum!=4:\n",
    "    sum = 0\n",
    "    while temp!=0:\n",
    "        rem = int(temp%10)\n",
    "        sum = sum+rem*rem\n",
    "        temp= temp/10\n",
    "    temp = sum\n",
    "if (sum==1):\n",
    "    print(num,\"it is a happy number\")\n",
    "else:\n",
    "    print(num,\"it is not a happy number\")"
   ]
  },
  {
   "cell_type": "code",
   "execution_count": null,
   "id": "8a7478fd-9470-477c-83c0-ba16095faf81",
   "metadata": {},
   "outputs": [],
   "source": [
    "4. Write a Python program to print all happy numbers between 1 and 100?"
   ]
  },
  {
   "cell_type": "code",
   "execution_count": 17,
   "id": "c8d01349-1cda-4d1b-b1a5-4fdf25ec213c",
   "metadata": {},
   "outputs": [
    {
     "name": "stdout",
     "output_type": "stream",
     "text": [
      "Happy number between 1 and 100\n",
      "1\n",
      "7\n",
      "10\n",
      "13\n",
      "19\n",
      "23\n",
      "28\n",
      "31\n",
      "32\n",
      "44\n",
      "49\n",
      "68\n",
      "70\n",
      "79\n",
      "82\n",
      "86\n",
      "91\n",
      "94\n",
      "97\n",
      "100\n"
     ]
    }
   ],
   "source": [
    "def happy_num(num):\n",
    "   rem = sum = 0\n",
    "    \n",
    "   while(num > 0):\n",
    "      rem = num%10\n",
    "      sum = sum + (rem*rem)\n",
    "      num = num//10\n",
    "   return sum\n",
    "    \n",
    "print(\"Happy number between 1 and 100\")\n",
    "\n",
    "for i in range(1, 101):\n",
    "   result = i\n",
    "   while(result != 1 and result != 4):\n",
    "      result = happy_num(result)\n",
    "   if(result == 1):\n",
    "      print(i)"
   ]
  },
  {
   "cell_type": "markdown",
   "id": "72d82f8e-50d6-411d-a56e-c068b2c9b0fd",
   "metadata": {},
   "source": [
    "5. Write a Python program to determine whether the given number is a Harshad Number?"
   ]
  },
  {
   "cell_type": "code",
   "execution_count": 19,
   "id": "ffd5d279-97d1-46fc-a88f-04aeb4730a51",
   "metadata": {},
   "outputs": [
    {
     "name": "stdin",
     "output_type": "stream",
     "text": [
      "Enter the number : 8\n"
     ]
    },
    {
     "name": "stdout",
     "output_type": "stream",
     "text": [
      "it is a harshad number\n"
     ]
    }
   ],
   "source": [
    "num = int(input(\"Enter the number :\"))\n",
    "temp = num\n",
    "sum = 0\n",
    "\n",
    "while(temp!=0):\n",
    "    rem=temp%10\n",
    "    sum= sum+rem\n",
    "    temp= int(temp/10)\n",
    "if num % sum == 0:\n",
    "    print(\"it is a harshad number\")\n",
    "else:\n",
    "    print(\"it is not a harshad number\")\n",
    "\n",
    "    "
   ]
  },
  {
   "cell_type": "code",
   "execution_count": null,
   "id": "9948d90c-ac8d-4cf9-8970-26e82c9f0372",
   "metadata": {},
   "outputs": [],
   "source": [
    "6. Write a Python program to print all pronic numbers between 1 and 100?"
   ]
  },
  {
   "cell_type": "code",
   "execution_count": 23,
   "id": "677cbf7f-2007-461c-a4e4-80489a571422",
   "metadata": {},
   "outputs": [
    {
     "name": "stdout",
     "output_type": "stream",
     "text": [
      "Pronic numbers between 1 and 100: \n",
      "2\n",
      "6\n",
      "12\n",
      "20\n",
      "30\n",
      "42\n",
      "56\n",
      "72\n",
      "90\n"
     ]
    }
   ],
   "source": [
    "def pronic_num(num):  \n",
    "    temp = False;  \n",
    "      \n",
    "    for j in range(1, num+1):  \n",
    "        if((j*(j+1)) == num):  \n",
    "            temp = True;  \n",
    "            break;  \n",
    "    return temp;  \n",
    "   \n",
    "print(\"Pronic numbers between 1 and 100: \");  \n",
    "for i in range(1, 101):  \n",
    "    if(pronic_num(i)):  \n",
    "        print(i)  "
   ]
  },
  {
   "cell_type": "code",
   "execution_count": null,
   "id": "b572314b-1bee-4f5c-9113-f8b8cf0213d8",
   "metadata": {},
   "outputs": [],
   "source": []
  }
 ],
 "metadata": {
  "kernelspec": {
   "display_name": "Python 3 (ipykernel)",
   "language": "python",
   "name": "python3"
  },
  "language_info": {
   "codemirror_mode": {
    "name": "ipython",
    "version": 3
   },
   "file_extension": ".py",
   "mimetype": "text/x-python",
   "name": "python",
   "nbconvert_exporter": "python",
   "pygments_lexer": "ipython3",
   "version": "3.11.7"
  }
 },
 "nbformat": 4,
 "nbformat_minor": 5
}
