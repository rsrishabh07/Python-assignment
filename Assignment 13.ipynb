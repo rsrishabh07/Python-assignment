{
 "cells": [
  {
   "cell_type": "markdown",
   "id": "7489ddd0-8242-478d-9b8e-719e6649f7d7",
   "metadata": {},
   "source": [
    "Question 1:\n",
    "Write a program that calculates and prints the value according to the given formula:\n",
    "Q = Square root of [(2 * C * D)/H]\n",
    "Following are the fixed values of C and H:\n",
    "C is 50. H is 30.\n",
    "D is the variable whose values should be input to your program in a comma-separated\n",
    "sequence."
   ]
  },
  {
   "cell_type": "code",
   "execution_count": 8,
   "id": "66e3882e-e905-43bd-9656-98e64ed3fb15",
   "metadata": {},
   "outputs": [
    {
     "name": "stdin",
     "output_type": "stream",
     "text": [
      "Enter the value of D : 5\n"
     ]
    },
    {
     "name": "stdout",
     "output_type": "stream",
     "text": [
      "4\n"
     ]
    }
   ],
   "source": [
    "D = [int(i) for i in input(\"Enter the value of D :\").split(\",\")]\n",
    "C = 50\n",
    "H = 30\n",
    "\n",
    "l = len(D)\n",
    "f = []\n",
    "for i in range(1):\n",
    "    q=((2*C*D[i])/H)**(0.5)\n",
    "    f.append(round(q))\n",
    "for i in range(1):\n",
    "    if i==1-1:\n",
    "        print(f[i])\n",
    "    else:\n",
    "        (f[i])"
   ]
  },
  {
   "cell_type": "markdown",
   "id": "05b4be19-dfa6-4547-be6b-35d793bc0aef",
   "metadata": {},
   "source": [
    "Question 2:\n",
    "Write a program which takes 2 digits, X,Y as input and generates a 2-dimensional array. The\n",
    "element value in the i-th row and j-th column of the array should be i*j.\n",
    "Note: i=0,1.., X-1; j=0,1,¡Y-1."
   ]
  },
  {
   "cell_type": "code",
   "execution_count": 15,
   "id": "dd685ff0-a2c9-4f47-8bac-1fa274ebdb12",
   "metadata": {},
   "outputs": [
    {
     "name": "stdin",
     "output_type": "stream",
     "text": [
      "Enter number of rows: 3\n",
      "Enter number of columns: 5\n"
     ]
    },
    {
     "name": "stdout",
     "output_type": "stream",
     "text": [
      "[[0, 0, 0, 0, 0], [0, 1, 2, 3, 4], [0, 2, 4, 6, 8]]\n"
     ]
    }
   ],
   "source": [
    "row = int(input('Enter number of rows:'))\n",
    "col = int(input('Enter number of columns:'))\n",
    "\n",
    "twoD_list = [[0 for c in range(col)] for r in range(row)]     \n",
    "\n",
    "for i in range(row):\n",
    "    for j in range(col):\n",
    "        twoD_list[i][j] = i * j                            \n",
    "print(twoD_list)\n"
   ]
  },
  {
   "cell_type": "markdown",
   "id": "3306da56-1c5d-4d8d-95d9-6661a14a7f01",
   "metadata": {},
   "source": [
    "Question 3:\n",
    "Write a program that accepts a comma separated sequence of words as input and prints the\n",
    "words in a comma-separated sequence after sorting them alphabetically."
   ]
  },
  {
   "cell_type": "code",
   "execution_count": 22,
   "id": "3a1df645-af52-455c-9580-4260e51b312a",
   "metadata": {},
   "outputs": [
    {
     "name": "stdin",
     "output_type": "stream",
     "text": [
      "Enter the words : without,hello,bag,world\n"
     ]
    },
    {
     "name": "stdout",
     "output_type": "stream",
     "text": [
      "bag,hello,without,world\n"
     ]
    }
   ],
   "source": [
    "items = input(\"Enter the words :\")\n",
    "\n",
    "words = [word for word in items.split(\",\")]\n",
    "\n",
    "print(\",\".join(sorted(list(set(words)))))"
   ]
  },
  {
   "cell_type": "markdown",
   "id": "159e458e-7342-44cf-9809-65b8ef3f2a40",
   "metadata": {},
   "source": [
    "Question 4:\n",
    "Write a program that accepts a sequence of whitespace separated words as input and prints\n",
    "the words after removing all duplicate words and sorting them alphanumerically."
   ]
  },
  {
   "cell_type": "code",
   "execution_count": 24,
   "id": "e347784a-263a-49ed-8ea0-1ac54945721d",
   "metadata": {},
   "outputs": [
    {
     "name": "stdin",
     "output_type": "stream",
     "text": [
      "Enter the words:  hello world and practice makes perfect and hello world again\n"
     ]
    },
    {
     "name": "stdout",
     "output_type": "stream",
     "text": [
      "again and hello makes perfect practice world\n"
     ]
    }
   ],
   "source": [
    "words = input(\"Enter the words: \")\n",
    "phrase_splited = words.split(' ')\n",
    "\n",
    "list = []\n",
    "for i in phrase_splited:\n",
    "    if i not in list:\n",
    "        list.append(i)\n",
    "    else:\n",
    "        continue\n",
    "list.sort()\n",
    "print((' ').join(list))"
   ]
  },
  {
   "cell_type": "markdown",
   "id": "295c8ef5-2778-4e7c-98b3-c61ad88969bc",
   "metadata": {},
   "source": [
    "Question 5:\n",
    "Write a program that accepts a sentence and calculate the number of letters and digits.\n",
    "Suppose the following input is supplied to the program:"
   ]
  },
  {
   "cell_type": "code",
   "execution_count": 3,
   "id": "9f5281c6-a526-4189-bf0b-b1eeacf82cf1",
   "metadata": {},
   "outputs": [
    {
     "name": "stdin",
     "output_type": "stream",
     "text": [
      "Enter the sentence :  hello world! 123\n"
     ]
    },
    {
     "name": "stdout",
     "output_type": "stream",
     "text": [
      "Letters: 10\n",
      "Digits: 3\n"
     ]
    }
   ],
   "source": [
    "sentence = input(\"Enter the sentence : \")\n",
    "phrase = list(phrase)\n",
    "\n",
    "l, d = 0, 0\n",
    "for i in sentence:\n",
    "    if i.isalpha():\n",
    "        l = l + 1\n",
    "    if i.isdigit():\n",
    "        d = d + 1\n",
    "    else:\n",
    "        pass\n",
    "\n",
    "print(\"Letters:\", l)\n",
    "print(\"Digits:\", d)"
   ]
  },
  {
   "cell_type": "markdown",
   "id": "4cc2ce4a-6f2c-4c9a-a440-f2b419e336c4",
   "metadata": {},
   "source": [
    "Question 6:\n",
    "A website requires the users to input username and password to register. Write a program to\n",
    "check the validity of password input by users."
   ]
  },
  {
   "cell_type": "code",
   "execution_count": 23,
   "id": "f28d1e8f-8fb6-430b-a55b-80d44d8ea3d0",
   "metadata": {},
   "outputs": [
    {
     "name": "stdin",
     "output_type": "stream",
     "text": [
      "Input your password : Noida@123\n"
     ]
    },
    {
     "name": "stdout",
     "output_type": "stream",
     "text": [
      "Valid Password\n"
     ]
    }
   ],
   "source": [
    "import re\n",
    "\n",
    "password = input(\"Input your password :\")\n",
    "\n",
    "x = True\n",
    "\n",
    "while x:  \n",
    "    if (len(password) < 6 or len(password) > 12):\n",
    "        break\n",
    "    elif not re.search(\"[a-z]\", password):\n",
    "        break\n",
    "    elif not re.search(\"[0-9]\", password):\n",
    "        break\n",
    "    elif not re.search(\"[A-Z]\", password):\n",
    "        break\n",
    "    elif not re.search(\"[$#@]\", password):\n",
    "        break\n",
    "    else:\n",
    "        print(\"Valid Password\")\n",
    "        x = False\n",
    "        break\n",
    "\n",
    "if x:\n",
    "    print(\"Not a Valid Password\")"
   ]
  },
  {
   "cell_type": "code",
   "execution_count": null,
   "id": "80092f64-d8be-4977-b903-85e6fa654521",
   "metadata": {},
   "outputs": [],
   "source": []
  }
 ],
 "metadata": {
  "kernelspec": {
   "display_name": "Python 3 (ipykernel)",
   "language": "python",
   "name": "python3"
  },
  "language_info": {
   "codemirror_mode": {
    "name": "ipython",
    "version": 3
   },
   "file_extension": ".py",
   "mimetype": "text/x-python",
   "name": "python",
   "nbconvert_exporter": "python",
   "pygments_lexer": "ipython3",
   "version": "3.11.7"
  }
 },
 "nbformat": 4,
 "nbformat_minor": 5
}
